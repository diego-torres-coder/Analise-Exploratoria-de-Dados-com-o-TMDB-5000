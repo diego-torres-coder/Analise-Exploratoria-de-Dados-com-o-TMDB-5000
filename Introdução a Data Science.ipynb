{
 "cells": [
  {
   "attachments": {},
   "cell_type": "markdown",
   "id": "9f6d9ac9-9e61-4545-b959-37bc91f4d18f",
   "metadata": {
    "tags": []
   },
   "source": [
    "# Análise Exploratória de Dados com o Dataset do TMDB 5000"
   ]
  },
  {
   "attachments": {},
   "cell_type": "markdown",
   "id": "469046ff-eea3-4032-b21f-a62220b0f2b2",
   "metadata": {
    "tags": []
   },
   "source": [
    "## Importação de Bibliotecas"
   ]
  },
  {
   "cell_type": "code",
   "execution_count": 1,
   "id": "ad99f271-c469-4555-8056-0e27bde902fe",
   "metadata": {},
   "outputs": [],
   "source": [
    "# Importa o numpy com o apelido np\n",
    "import numpy as np\n",
    "\n",
    "# Importa o pandas com o apelido pd\n",
    "import pandas as pd\n",
    "\n",
    "# Importa o pyplot com o apelido plt\n",
    "import matplotlib.pyplot as plt\n",
    "\n",
    "# Importa o seaborn com o apelido sns\n",
    "import seaborn as sns"
   ]
  },
  {
   "cell_type": "markdown",
   "id": "c136201b-afbe-4621-814a-fa6477dfcce6",
   "metadata": {},
   "source": [
    "## Leitura do Conjunto de Dados"
   ]
  },
  {
   "cell_type": "code",
   "execution_count": 2,
   "id": "cbf5bbe3-fa2a-4cdb-9075-aef8abec961a",
   "metadata": {},
   "outputs": [],
   "source": [
    "# Importa o arquivo ratings.csv\n",
    "notas = pd.read_csv('ratings.csv')"
   ]
  },
  {
   "cell_type": "code",
   "execution_count": 3,
   "id": "a1e024ef-a4b6-45cc-be74-b85da621e70c",
   "metadata": {},
   "outputs": [
    {
     "data": {
      "text/html": [
       "<div>\n",
       "<style scoped>\n",
       "    .dataframe tbody tr th:only-of-type {\n",
       "        vertical-align: middle;\n",
       "    }\n",
       "\n",
       "    .dataframe tbody tr th {\n",
       "        vertical-align: top;\n",
       "    }\n",
       "\n",
       "    .dataframe thead th {\n",
       "        text-align: right;\n",
       "    }\n",
       "</style>\n",
       "<table border=\"1\" class=\"dataframe\">\n",
       "  <thead>\n",
       "    <tr style=\"text-align: right;\">\n",
       "      <th></th>\n",
       "      <th>userId</th>\n",
       "      <th>movieId</th>\n",
       "      <th>rating</th>\n",
       "      <th>timestamp</th>\n",
       "    </tr>\n",
       "  </thead>\n",
       "  <tbody>\n",
       "    <tr>\n",
       "      <th>0</th>\n",
       "      <td>1</td>\n",
       "      <td>1</td>\n",
       "      <td>4.0</td>\n",
       "      <td>964982703</td>\n",
       "    </tr>\n",
       "    <tr>\n",
       "      <th>1</th>\n",
       "      <td>1</td>\n",
       "      <td>3</td>\n",
       "      <td>4.0</td>\n",
       "      <td>964981247</td>\n",
       "    </tr>\n",
       "    <tr>\n",
       "      <th>2</th>\n",
       "      <td>1</td>\n",
       "      <td>6</td>\n",
       "      <td>4.0</td>\n",
       "      <td>964982224</td>\n",
       "    </tr>\n",
       "    <tr>\n",
       "      <th>3</th>\n",
       "      <td>1</td>\n",
       "      <td>47</td>\n",
       "      <td>5.0</td>\n",
       "      <td>964983815</td>\n",
       "    </tr>\n",
       "    <tr>\n",
       "      <th>4</th>\n",
       "      <td>1</td>\n",
       "      <td>50</td>\n",
       "      <td>5.0</td>\n",
       "      <td>964982931</td>\n",
       "    </tr>\n",
       "  </tbody>\n",
       "</table>\n",
       "</div>"
      ],
      "text/plain": [
       "   userId  movieId  rating  timestamp\n",
       "0       1        1     4.0  964982703\n",
       "1       1        3     4.0  964981247\n",
       "2       1        6     4.0  964982224\n",
       "3       1       47     5.0  964983815\n",
       "4       1       50     5.0  964982931"
      ]
     },
     "execution_count": 3,
     "metadata": {},
     "output_type": "execute_result"
    }
   ],
   "source": [
    "# Exibe as cinco primeiras linhas do dataframe\n",
    "notas.head()"
   ]
  },
  {
   "cell_type": "code",
   "execution_count": 5,
   "id": "1ba23c35-4cbf-4677-8aa8-e79ad94f0119",
   "metadata": {},
   "outputs": [],
   "source": [
    "# Remove a coluna especificada\n",
    "notas.drop('timestamp', axis='columns', inplace=True)"
   ]
  },
  {
   "cell_type": "markdown",
   "id": "f6d1c7d2-dd42-4304-81e8-ecbb6f35112d",
   "metadata": {},
   "source": [
    "## Verificação do Tamanho do Conjunto de Dados"
   ]
  },
  {
   "cell_type": "code",
   "execution_count": 6,
   "id": "15e065b2-9c4f-4102-988c-f30fde90e102",
   "metadata": {},
   "outputs": [
    {
     "data": {
      "text/plain": [
       "(100836, 3)"
      ]
     },
     "execution_count": 6,
     "metadata": {},
     "output_type": "execute_result"
    }
   ],
   "source": [
    "# Exibe as dimensões do dataframe\n",
    "notas.shape"
   ]
  },
  {
   "cell_type": "code",
   "execution_count": 9,
   "id": "eceebee1-45e2-4508-9062-0ec4fb4b0def",
   "metadata": {},
   "outputs": [],
   "source": [
    "# Desempacota a tupla\n",
    "num_linhas, num_colunas = notas.shape"
   ]
  },
  {
   "cell_type": "code",
   "execution_count": 10,
   "id": "44693cda-43f5-4bca-94ea-356cc6fcee05",
   "metadata": {},
   "outputs": [
    {
     "name": "stdout",
     "output_type": "stream",
     "text": [
      "Há 100836 linhas distribuídas ao longo de 3 colunas.\n"
     ]
    }
   ],
   "source": [
    "print(f'Há {num_linhas} linhas distribuídas ao longo de {num_colunas} colunas.')"
   ]
  },
  {
   "cell_type": "markdown",
   "id": "0c1f2aec-bc04-4e22-a1fd-51997c58a49e",
   "metadata": {},
   "source": [
    "## Renomeando as Colunas"
   ]
  },
  {
   "cell_type": "code",
   "execution_count": 11,
   "id": "cc36810c-77e4-4a71-b73d-eced5c9d8aa5",
   "metadata": {},
   "outputs": [
    {
     "data": {
      "text/html": [
       "<div>\n",
       "<style scoped>\n",
       "    .dataframe tbody tr th:only-of-type {\n",
       "        vertical-align: middle;\n",
       "    }\n",
       "\n",
       "    .dataframe tbody tr th {\n",
       "        vertical-align: top;\n",
       "    }\n",
       "\n",
       "    .dataframe thead th {\n",
       "        text-align: right;\n",
       "    }\n",
       "</style>\n",
       "<table border=\"1\" class=\"dataframe\">\n",
       "  <thead>\n",
       "    <tr style=\"text-align: right;\">\n",
       "      <th></th>\n",
       "      <th>usuarioId</th>\n",
       "      <th>filmeId</th>\n",
       "      <th>nota</th>\n",
       "    </tr>\n",
       "  </thead>\n",
       "  <tbody>\n",
       "    <tr>\n",
       "      <th>0</th>\n",
       "      <td>1</td>\n",
       "      <td>1</td>\n",
       "      <td>4.0</td>\n",
       "    </tr>\n",
       "    <tr>\n",
       "      <th>1</th>\n",
       "      <td>1</td>\n",
       "      <td>3</td>\n",
       "      <td>4.0</td>\n",
       "    </tr>\n",
       "    <tr>\n",
       "      <th>2</th>\n",
       "      <td>1</td>\n",
       "      <td>6</td>\n",
       "      <td>4.0</td>\n",
       "    </tr>\n",
       "    <tr>\n",
       "      <th>3</th>\n",
       "      <td>1</td>\n",
       "      <td>47</td>\n",
       "      <td>5.0</td>\n",
       "    </tr>\n",
       "    <tr>\n",
       "      <th>4</th>\n",
       "      <td>1</td>\n",
       "      <td>50</td>\n",
       "      <td>5.0</td>\n",
       "    </tr>\n",
       "  </tbody>\n",
       "</table>\n",
       "</div>"
      ],
      "text/plain": [
       "   usuarioId  filmeId  nota\n",
       "0          1        1   4.0\n",
       "1          1        3   4.0\n",
       "2          1        6   4.0\n",
       "3          1       47   5.0\n",
       "4          1       50   5.0"
      ]
     },
     "execution_count": 11,
     "metadata": {},
     "output_type": "execute_result"
    }
   ],
   "source": [
    "# Renomeia as colunas do dataframe\n",
    "notas.columns = ['usuarioId', 'filmeId', 'nota']\n",
    "\n",
    "# Exibe as cinco primeiras linhas\n",
    "notas.head()"
   ]
  },
  {
   "cell_type": "markdown",
   "id": "a514b5d6-25e4-46e4-b4f7-a494dbc3aa4c",
   "metadata": {},
   "source": [
    "## Análise das Notas"
   ]
  },
  {
   "cell_type": "markdown",
   "id": "f64f6e7b-83fe-4aaf-95a6-0f06bed81246",
   "metadata": {},
   "source": [
    "### Distribuição de Frequência das Notas"
   ]
  },
  {
   "cell_type": "code",
   "execution_count": 12,
   "id": "036b70b8-7aa1-4668-9115-8233300be42f",
   "metadata": {},
   "outputs": [
    {
     "data": {
      "text/plain": [
       "0         4.0\n",
       "1         4.0\n",
       "2         4.0\n",
       "3         5.0\n",
       "4         5.0\n",
       "         ... \n",
       "100831    4.0\n",
       "100832    5.0\n",
       "100833    5.0\n",
       "100834    5.0\n",
       "100835    3.0\n",
       "Name: nota, Length: 100836, dtype: float64"
      ]
     },
     "execution_count": 12,
     "metadata": {},
     "output_type": "execute_result"
    }
   ],
   "source": [
    "# Seleciona a coluna nota, retornando uma Série\n",
    "notas['nota']"
   ]
  },
  {
   "cell_type": "code",
   "execution_count": 13,
   "id": "f1356d02-82d0-4d37-88ef-90bcad44c477",
   "metadata": {},
   "outputs": [
    {
     "data": {
      "text/plain": [
       "pandas.core.series.Series"
      ]
     },
     "execution_count": 13,
     "metadata": {},
     "output_type": "execute_result"
    }
   ],
   "source": [
    "# Exibe o tipo do objeto (série do pandas)\n",
    "type(notas['nota'])"
   ]
  },
  {
   "cell_type": "code",
   "execution_count": 14,
   "id": "49f81fb3-dd41-49f9-9089-ecc95be3f1d2",
   "metadata": {},
   "outputs": [
    {
     "data": {
      "text/plain": [
       "array([4. , 5. , 3. , 2. , 1. , 4.5, 3.5, 2.5, 0.5, 1.5])"
      ]
     },
     "execution_count": 14,
     "metadata": {},
     "output_type": "execute_result"
    }
   ],
   "source": [
    "# Obtém os valores únicos da coluna nota em um array\n",
    "notas['nota'].unique()"
   ]
  },
  {
   "cell_type": "code",
   "execution_count": 15,
   "id": "23bb440b-37be-41e0-a9d7-7c72da9c760e",
   "metadata": {},
   "outputs": [
    {
     "data": {
      "text/plain": [
       "array([0.5, 1. , 1.5, 2. , 2.5, 3. , 3.5, 4. , 4.5, 5. ])"
      ]
     },
     "execution_count": 15,
     "metadata": {},
     "output_type": "execute_result"
    }
   ],
   "source": [
    "# Ordena os valores únicos da variável `nota`\n",
    "np.sort(notas['nota'].unique())"
   ]
  },
  {
   "cell_type": "code",
   "execution_count": 17,
   "id": "67194021-f708-47ef-98e1-c36028fdf775",
   "metadata": {},
   "outputs": [
    {
     "data": {
      "text/plain": [
       "nota\n",
       "4.0    26818\n",
       "3.0    20047\n",
       "5.0    13211\n",
       "3.5    13136\n",
       "4.5     8551\n",
       "2.0     7551\n",
       "2.5     5550\n",
       "1.0     2811\n",
       "1.5     1791\n",
       "0.5     1370\n",
       "Name: count, dtype: int64"
      ]
     },
     "execution_count": 17,
     "metadata": {},
     "output_type": "execute_result"
    }
   ],
   "source": [
    "# Retorna uma contagem dos valores únicos da coluna nota (distribuição de frequência)\n",
    "notas['nota'].value_counts()"
   ]
  },
  {
   "cell_type": "code",
   "execution_count": 18,
   "id": "82dc330d-2731-4918-9838-7119fc14a3d1",
   "metadata": {},
   "outputs": [
    {
     "data": {
      "text/plain": [
       "nota\n",
       "4.0    0.265957\n",
       "3.0    0.198808\n",
       "5.0    0.131015\n",
       "3.5    0.130271\n",
       "4.5    0.084801\n",
       "2.0    0.074884\n",
       "2.5    0.055040\n",
       "1.0    0.027877\n",
       "1.5    0.017762\n",
       "0.5    0.013586\n",
       "Name: proportion, dtype: float64"
      ]
     },
     "execution_count": 18,
     "metadata": {},
     "output_type": "execute_result"
    }
   ],
   "source": [
    "# Retorna a distribuição de frequências relativas das notas\n",
    "notas['nota'].value_counts(normalize=True)"
   ]
  },
  {
   "attachments": {},
   "cell_type": "markdown",
   "id": "f5b39258-f413-4d98-bdb6-262fcd7c23db",
   "metadata": {},
   "source": [
    "**Observação:** Note que este método ordenou as notas em ordem decrescente de frequência. Com isso, podemos identificar que $4.0$ foi a nota mais frequente deste conjunto de dados, ao passo que $0.5$ foi a nota menos frequente."
   ]
  },
  {
   "cell_type": "markdown",
   "id": "f4e737b8-bb02-49ba-bb9a-5abcf2085a8e",
   "metadata": {},
   "source": [
    "### Estatísticas Descritivas"
   ]
  },
  {
   "cell_type": "markdown",
   "id": "5f99042c-3ec3-4210-ad14-b2f907f56f32",
   "metadata": {},
   "source": [
    "#### Média"
   ]
  },
  {
   "cell_type": "code",
   "execution_count": 19,
   "id": "4287efdd-37b7-49de-8aee-8dc3dc03cbd3",
   "metadata": {},
   "outputs": [
    {
     "data": {
      "text/plain": [
       "3.501556983616962"
      ]
     },
     "execution_count": 19,
     "metadata": {},
     "output_type": "execute_result"
    }
   ],
   "source": [
    "# Obtém a média dos valores da coluna selecionada\n",
    "# Se todos os filmes tivessem recebido a mesma nota, esta seria a nota recebida\n",
    "notas['nota'].mean()"
   ]
  },
  {
   "cell_type": "markdown",
   "id": "f12c6f5b-1e1e-4e62-83a5-c7a0de5d5619",
   "metadata": {},
   "source": [
    "#### Moda"
   ]
  },
  {
   "cell_type": "code",
   "execution_count": 77,
   "id": "1757c6c9-6d15-4c1d-819e-9cf36df9ab3c",
   "metadata": {},
   "outputs": [
    {
     "data": {
      "text/plain": [
       "4.0"
      ]
     },
     "execution_count": 77,
     "metadata": {},
     "output_type": "execute_result"
    }
   ],
   "source": [
    "# Exibe a moda das notas\n",
    "notas['nota'].mode()[0]"
   ]
  },
  {
   "cell_type": "markdown",
   "id": "3732bb43-173e-416d-a34d-8fa67d09856e",
   "metadata": {},
   "source": [
    "#### Mediana"
   ]
  },
  {
   "cell_type": "code",
   "execution_count": 20,
   "id": "6fab6c14-da71-49ab-8d8d-3e50064ec191",
   "metadata": {},
   "outputs": [
    {
     "data": {
      "text/plain": [
       "3.5"
      ]
     },
     "execution_count": 20,
     "metadata": {},
     "output_type": "execute_result"
    }
   ],
   "source": [
    "# Exibe a mediana das notas\n",
    "notas['nota'].median()"
   ]
  },
  {
   "attachments": {},
   "cell_type": "markdown",
   "id": "ebfb7835-21c8-46dc-b804-e9d3ab9ce02c",
   "metadata": {},
   "source": [
    "Para este cojunto de dados, observamos a seguinte desigualdade:\n",
    "\n",
    "$$moda > media > mediana$$"
   ]
  },
  {
   "cell_type": "markdown",
   "id": "74d51a51-7bad-4067-96fb-e4e7daacbd7d",
   "metadata": {},
   "source": [
    "### Histograma de Frequência das Notas"
   ]
  },
  {
   "cell_type": "code",
   "execution_count": 21,
   "id": "960febae-7f93-40f2-a8ba-2ff782f062af",
   "metadata": {},
   "outputs": [
    {
     "data": {
      "image/png": "[encoded data removed]",
      "text/plain": [
       "<Figure size 640x480 with 1 Axes>"
      ]
     },
     "metadata": {},
     "output_type": "display_data"
    }
   ],
   "source": [
    "# Nota mínima\n",
    "menor_nota = notas['nota'].min()\n",
    "\n",
    "# Nota máxima\n",
    "maior_nota = notas['nota'].max()\n",
    "\n",
    "# Obtém a quantidade de valores únicos\n",
    "num_notas_unicas = notas['nota'].unique().size\n",
    "\n",
    "# Obtém os limites das categorias (fronteiras das classes)\n",
    "limites_categorias = np.histogram_bin_edges(\n",
    "    notas['nota'], \n",
    "    bins=np.linspace(menor_nota, maior_nota, num=num_notas_unicas, endpoint=True)\n",
    ")\n",
    "\n",
    "# Cria um histograma de frequências para as notas\n",
    "plt.hist(x=notas['nota'], bins=limites_categorias, alpha=0.5, color='b', edgecolor='k')\n",
    "\n",
    "# Rótulo do eixo horizontal\n",
    "plt.xlabel('Nota')\n",
    "\n",
    "# Rótulo do eixo vertical\n",
    "plt.ylabel('Frequência (Número de Avalições)')\n",
    "\n",
    "# Título do gráfico\n",
    "plt.title('Histograma de Frequência para as Notas')\n",
    "\n",
    "# Define os marcadores do eixo horizontal\n",
    "plt.xticks(limites_categorias)\n",
    "\n",
    "# Exibe o histograma\n",
    "plt.show()"
   ]
  },
  {
   "cell_type": "code",
   "execution_count": 76,
   "id": "7ed55157-2e56-465f-905b-cf23e22a5f96",
   "metadata": {},
   "outputs": [
    {
     "data": {
      "text/plain": [
       "count    100836.000000\n",
       "mean          3.501557\n",
       "std           1.042529\n",
       "min           0.500000\n",
       "25%           3.000000\n",
       "50%           3.500000\n",
       "75%           4.000000\n",
       "max           5.000000\n",
       "Name: nota, dtype: float64"
      ]
     },
     "execution_count": 76,
     "metadata": {},
     "output_type": "execute_result"
    }
   ],
   "source": [
    "# Exibe uma descrição estatística dos valores da coluna notas\n",
    "notas['nota'].describe()"
   ]
  },
  {
   "cell_type": "markdown",
   "id": "e243c09b-af8f-4f2a-8b05-8bcb287b80e4",
   "metadata": {},
   "source": [
    "Com o histograma e a descrição acima, podemos chegar as seguinte conclusões:\n",
    "\n",
    "1. Há 100.836 avaliações neste conjunto de dados;\n",
    "2. A nota média dos filmes é 3.5;\n",
    "3. A menor nota dada por um crítico foi de 0.5;\n",
    "4. A maior nota dada por um crítico foi de 5.0;\n",
    "5. A amplitude das notas é $5.0 - 0.5 = 4.5$;\n",
    "6. 25% das notas são inferiores a 3.0 e 75% são superiores a este valor;\n",
    "7. 50% das notas são inferiores a 3.5 e 50% são superiores a este valor;\n",
    "8. 75% das notas são inferiores a 4.0 e 25% são superiores a este valor;\n",
    "9. O desvio padrão das notas é de 1.04."
   ]
  },
  {
   "cell_type": "code",
   "execution_count": 26,
   "id": "e888cdc1-de20-4d73-aaf4-5390c2e68328",
   "metadata": {},
   "outputs": [
    {
     "data": {
      "text/plain": [
       "<Axes: title={'center': 'Boxplot das Notas dos Filmes'}, xlabel='Nota'>"
      ]
     },
     "execution_count": 26,
     "metadata": {},
     "output_type": "execute_result"
    },
    {
     "data": {
      "image/png": "[encoded data removed]",
      "text/plain": [
       "<Figure size 640x480 with 1 Axes>"
      ]
     },
     "metadata": {},
     "output_type": "display_data"
    }
   ],
   "source": [
    "# Exibe um boxplot da variável `nota`\n",
    "ax = sns.boxplot(\n",
    "    data=notas,\n",
    "    x='nota',\n",
    "    width=.5,\n",
    "    flierprops={'marker': 'o'},\n",
    "    linewidth=.75\n",
    ")\n",
    "\n",
    "# Define um título para o boxplot\n",
    "ax.set_title('Boxplot das Notas dos Filmes')\n",
    "\n",
    "# Define um título para o eixo x\n",
    "ax.set_xlabel('Nota')\n",
    "\n",
    "# Define os marcadores do eixo x\n",
    "plt.xticks(np.linspace(menor_nota, maior_nota, num=num_notas_unicas, endpoint=True))\n",
    "\n",
    "# Exibe o boxplot\n",
    "ax"
   ]
  },
  {
   "attachments": {},
   "cell_type": "markdown",
   "id": "adac5301-7a6b-4c50-af94-efde5af4a948",
   "metadata": {
    "tags": []
   },
   "source": [
    "## Análise Exploratória de Dados (EDA)"
   ]
  },
  {
   "cell_type": "code",
   "execution_count": 27,
   "id": "ed16177f-eefe-4d8e-b95a-b76745ac5843",
   "metadata": {},
   "outputs": [
    {
     "data": {
      "text/html": [
       "<div>\n",
       "<style scoped>\n",
       "    .dataframe tbody tr th:only-of-type {\n",
       "        vertical-align: middle;\n",
       "    }\n",
       "\n",
       "    .dataframe tbody tr th {\n",
       "        vertical-align: top;\n",
       "    }\n",
       "\n",
       "    .dataframe thead th {\n",
       "        text-align: right;\n",
       "    }\n",
       "</style>\n",
       "<table border=\"1\" class=\"dataframe\">\n",
       "  <thead>\n",
       "    <tr style=\"text-align: right;\">\n",
       "      <th></th>\n",
       "      <th>movieId</th>\n",
       "      <th>title</th>\n",
       "      <th>genres</th>\n",
       "    </tr>\n",
       "  </thead>\n",
       "  <tbody>\n",
       "    <tr>\n",
       "      <th>0</th>\n",
       "      <td>1</td>\n",
       "      <td>Toy Story (1995)</td>\n",
       "      <td>Adventure|Animation|Children|Comedy|Fantasy</td>\n",
       "    </tr>\n",
       "    <tr>\n",
       "      <th>1</th>\n",
       "      <td>2</td>\n",
       "      <td>Jumanji (1995)</td>\n",
       "      <td>Adventure|Children|Fantasy</td>\n",
       "    </tr>\n",
       "    <tr>\n",
       "      <th>2</th>\n",
       "      <td>3</td>\n",
       "      <td>Grumpier Old Men (1995)</td>\n",
       "      <td>Comedy|Romance</td>\n",
       "    </tr>\n",
       "    <tr>\n",
       "      <th>3</th>\n",
       "      <td>4</td>\n",
       "      <td>Waiting to Exhale (1995)</td>\n",
       "      <td>Comedy|Drama|Romance</td>\n",
       "    </tr>\n",
       "    <tr>\n",
       "      <th>4</th>\n",
       "      <td>5</td>\n",
       "      <td>Father of the Bride Part II (1995)</td>\n",
       "      <td>Comedy</td>\n",
       "    </tr>\n",
       "  </tbody>\n",
       "</table>\n",
       "</div>"
      ],
      "text/plain": [
       "   movieId                               title   \n",
       "0        1                    Toy Story (1995)  \\\n",
       "1        2                      Jumanji (1995)   \n",
       "2        3             Grumpier Old Men (1995)   \n",
       "3        4            Waiting to Exhale (1995)   \n",
       "4        5  Father of the Bride Part II (1995)   \n",
       "\n",
       "                                        genres  \n",
       "0  Adventure|Animation|Children|Comedy|Fantasy  \n",
       "1                   Adventure|Children|Fantasy  \n",
       "2                               Comedy|Romance  \n",
       "3                         Comedy|Drama|Romance  \n",
       "4                                       Comedy  "
      ]
     },
     "execution_count": 27,
     "metadata": {},
     "output_type": "execute_result"
    }
   ],
   "source": [
    "# Lê o arquivo com os nomes dos filmes\n",
    "filmes = pd.read_csv('movies.csv')\n",
    "\n",
    "# Exibe as cinco primeiras linhas do dataframe\n",
    "filmes.head()"
   ]
  },
  {
   "cell_type": "code",
   "execution_count": 28,
   "id": "9fd94b51-a095-4acb-a6f9-db443f79f03a",
   "metadata": {},
   "outputs": [],
   "source": [
    "# Renomeia as colunas do dataframe\n",
    "filmes.columns = ['filmeId', 'titulo', 'generos']"
   ]
  },
  {
   "cell_type": "code",
   "execution_count": 30,
   "id": "872083a9-7928-4a3c-957d-97c842e1d186",
   "metadata": {},
   "outputs": [
    {
     "data": {
      "text/html": [
       "<div>\n",
       "<style scoped>\n",
       "    .dataframe tbody tr th:only-of-type {\n",
       "        vertical-align: middle;\n",
       "    }\n",
       "\n",
       "    .dataframe tbody tr th {\n",
       "        vertical-align: top;\n",
       "    }\n",
       "\n",
       "    .dataframe thead th {\n",
       "        text-align: right;\n",
       "    }\n",
       "</style>\n",
       "<table border=\"1\" class=\"dataframe\">\n",
       "  <thead>\n",
       "    <tr style=\"text-align: right;\">\n",
       "      <th></th>\n",
       "      <th>filmeId</th>\n",
       "      <th>titulo</th>\n",
       "      <th>generos</th>\n",
       "    </tr>\n",
       "  </thead>\n",
       "  <tbody>\n",
       "    <tr>\n",
       "      <th>0</th>\n",
       "      <td>1</td>\n",
       "      <td>Toy Story (1995)</td>\n",
       "      <td>Adventure|Animation|Children|Comedy|Fantasy</td>\n",
       "    </tr>\n",
       "    <tr>\n",
       "      <th>1</th>\n",
       "      <td>2</td>\n",
       "      <td>Jumanji (1995)</td>\n",
       "      <td>Adventure|Children|Fantasy</td>\n",
       "    </tr>\n",
       "    <tr>\n",
       "      <th>2</th>\n",
       "      <td>3</td>\n",
       "      <td>Grumpier Old Men (1995)</td>\n",
       "      <td>Comedy|Romance</td>\n",
       "    </tr>\n",
       "    <tr>\n",
       "      <th>3</th>\n",
       "      <td>4</td>\n",
       "      <td>Waiting to Exhale (1995)</td>\n",
       "      <td>Comedy|Drama|Romance</td>\n",
       "    </tr>\n",
       "    <tr>\n",
       "      <th>4</th>\n",
       "      <td>5</td>\n",
       "      <td>Father of the Bride Part II (1995)</td>\n",
       "      <td>Comedy</td>\n",
       "    </tr>\n",
       "  </tbody>\n",
       "</table>\n",
       "</div>"
      ],
      "text/plain": [
       "   filmeId                              titulo   \n",
       "0        1                    Toy Story (1995)  \\\n",
       "1        2                      Jumanji (1995)   \n",
       "2        3             Grumpier Old Men (1995)   \n",
       "3        4            Waiting to Exhale (1995)   \n",
       "4        5  Father of the Bride Part II (1995)   \n",
       "\n",
       "                                       generos  \n",
       "0  Adventure|Animation|Children|Comedy|Fantasy  \n",
       "1                   Adventure|Children|Fantasy  \n",
       "2                               Comedy|Romance  \n",
       "3                         Comedy|Drama|Romance  \n",
       "4                                       Comedy  "
      ]
     },
     "execution_count": 30,
     "metadata": {},
     "output_type": "execute_result"
    }
   ],
   "source": [
    "filmes.head()"
   ]
  },
  {
   "cell_type": "code",
   "execution_count": 31,
   "id": "63a9441d-4849-4617-a4e0-69fa0a44fad2",
   "metadata": {},
   "outputs": [
    {
     "data": {
      "text/html": [
       "<div>\n",
       "<style scoped>\n",
       "    .dataframe tbody tr th:only-of-type {\n",
       "        vertical-align: middle;\n",
       "    }\n",
       "\n",
       "    .dataframe tbody tr th {\n",
       "        vertical-align: top;\n",
       "    }\n",
       "\n",
       "    .dataframe thead th {\n",
       "        text-align: right;\n",
       "    }\n",
       "</style>\n",
       "<table border=\"1\" class=\"dataframe\">\n",
       "  <thead>\n",
       "    <tr style=\"text-align: right;\">\n",
       "      <th></th>\n",
       "      <th>usuarioId</th>\n",
       "      <th>filmeId</th>\n",
       "      <th>nota</th>\n",
       "    </tr>\n",
       "  </thead>\n",
       "  <tbody>\n",
       "    <tr>\n",
       "      <th>0</th>\n",
       "      <td>1</td>\n",
       "      <td>1</td>\n",
       "      <td>4.0</td>\n",
       "    </tr>\n",
       "    <tr>\n",
       "      <th>516</th>\n",
       "      <td>5</td>\n",
       "      <td>1</td>\n",
       "      <td>4.0</td>\n",
       "    </tr>\n",
       "    <tr>\n",
       "      <th>874</th>\n",
       "      <td>7</td>\n",
       "      <td>1</td>\n",
       "      <td>4.5</td>\n",
       "    </tr>\n",
       "    <tr>\n",
       "      <th>1434</th>\n",
       "      <td>15</td>\n",
       "      <td>1</td>\n",
       "      <td>2.5</td>\n",
       "    </tr>\n",
       "    <tr>\n",
       "      <th>1667</th>\n",
       "      <td>17</td>\n",
       "      <td>1</td>\n",
       "      <td>4.5</td>\n",
       "    </tr>\n",
       "    <tr>\n",
       "      <th>...</th>\n",
       "      <td>...</td>\n",
       "      <td>...</td>\n",
       "      <td>...</td>\n",
       "    </tr>\n",
       "    <tr>\n",
       "      <th>97364</th>\n",
       "      <td>606</td>\n",
       "      <td>1</td>\n",
       "      <td>2.5</td>\n",
       "    </tr>\n",
       "    <tr>\n",
       "      <th>98479</th>\n",
       "      <td>607</td>\n",
       "      <td>1</td>\n",
       "      <td>4.0</td>\n",
       "    </tr>\n",
       "    <tr>\n",
       "      <th>98666</th>\n",
       "      <td>608</td>\n",
       "      <td>1</td>\n",
       "      <td>2.5</td>\n",
       "    </tr>\n",
       "    <tr>\n",
       "      <th>99497</th>\n",
       "      <td>609</td>\n",
       "      <td>1</td>\n",
       "      <td>3.0</td>\n",
       "    </tr>\n",
       "    <tr>\n",
       "      <th>99534</th>\n",
       "      <td>610</td>\n",
       "      <td>1</td>\n",
       "      <td>5.0</td>\n",
       "    </tr>\n",
       "  </tbody>\n",
       "</table>\n",
       "<p>215 rows × 3 columns</p>\n",
       "</div>"
      ],
      "text/plain": [
       "       usuarioId  filmeId  nota\n",
       "0              1        1   4.0\n",
       "516            5        1   4.0\n",
       "874            7        1   4.5\n",
       "1434          15        1   2.5\n",
       "1667          17        1   4.5\n",
       "...          ...      ...   ...\n",
       "97364        606        1   2.5\n",
       "98479        607        1   4.0\n",
       "98666        608        1   2.5\n",
       "99497        609        1   3.0\n",
       "99534        610        1   5.0\n",
       "\n",
       "[215 rows x 3 columns]"
      ]
     },
     "execution_count": 31,
     "metadata": {},
     "output_type": "execute_result"
    }
   ],
   "source": [
    "# Localiza todas as linhas do dataframe `notas` em que o ID do filme é 1, isto é, o filme é Toy Story\n",
    "notas.query('filmeId == 1')"
   ]
  },
  {
   "cell_type": "code",
   "execution_count": 32,
   "id": "cc060931-4a6c-4ab4-b159-f58490a7632c",
   "metadata": {},
   "outputs": [
    {
     "data": {
      "text/plain": [
       "0        4.0\n",
       "516      4.0\n",
       "874      4.5\n",
       "1434     2.5\n",
       "1667     4.5\n",
       "        ... \n",
       "97364    2.5\n",
       "98479    4.0\n",
       "98666    2.5\n",
       "99497    3.0\n",
       "99534    5.0\n",
       "Name: nota, Length: 215, dtype: float64"
      ]
     },
     "execution_count": 32,
     "metadata": {},
     "output_type": "execute_result"
    }
   ],
   "source": [
    "# Seleciona a coluna notas do dataframe filtrado\n",
    "notas.query('filmeId == 1')['nota']"
   ]
  },
  {
   "cell_type": "code",
   "execution_count": 33,
   "id": "a009a3eb-eb4c-4d53-a644-3bc23ba0d356",
   "metadata": {},
   "outputs": [
    {
     "data": {
      "text/plain": [
       "3.9209302325581397"
      ]
     },
     "execution_count": 33,
     "metadata": {},
     "output_type": "execute_result"
    }
   ],
   "source": [
    "# Obtém a média das notas do filme cujo id é 1\n",
    "notas.query('filmeId == 1')['nota'].mean()"
   ]
  },
  {
   "attachments": {},
   "cell_type": "markdown",
   "id": "b3f4dd53-6b2f-437a-b674-a3a8cf7fb505",
   "metadata": {},
   "source": [
    "Observamos que a média das notas do filme cujo ID é 1 é 3.92, que é superior a média de notas geral."
   ]
  },
  {
   "cell_type": "code",
   "execution_count": 34,
   "id": "6df58e06-ef4d-4192-bd7c-a1f5b98780ff",
   "metadata": {},
   "outputs": [
    {
     "data": {
      "text/plain": [
       "filmeId\n",
       "1         3.920930\n",
       "2         3.431818\n",
       "3         3.259615\n",
       "4         2.357143\n",
       "5         3.071429\n",
       "            ...   \n",
       "193581    4.000000\n",
       "193583    3.500000\n",
       "193585    3.500000\n",
       "193587    3.500000\n",
       "193609    4.000000\n",
       "Name: nota, Length: 9724, dtype: float64"
      ]
     },
     "execution_count": 34,
     "metadata": {},
     "output_type": "execute_result"
    }
   ],
   "source": [
    "notas.groupby('filmeId')['nota'].mean()"
   ]
  },
  {
   "cell_type": "code",
   "execution_count": 35,
   "id": "21e13f01-c63c-473e-afa9-873c4c506560",
   "metadata": {},
   "outputs": [
    {
     "data": {
      "text/plain": [
       "filmeId\n",
       "1         3.920930\n",
       "2         3.431818\n",
       "3         3.259615\n",
       "4         2.357143\n",
       "5         3.071429\n",
       "            ...   \n",
       "193581    4.000000\n",
       "193583    3.500000\n",
       "193585    3.500000\n",
       "193587    3.500000\n",
       "193609    4.000000\n",
       "Name: nota, Length: 9724, dtype: float64"
      ]
     },
     "execution_count": 35,
     "metadata": {},
     "output_type": "execute_result"
    }
   ],
   "source": [
    "medias_por_filme = notas.groupby('filmeId')['nota'].mean()\n",
    "medias_por_filme"
   ]
  },
  {
   "cell_type": "code",
   "execution_count": 37,
   "id": "54760efc-5a19-404f-b498-779c3b161bde",
   "metadata": {},
   "outputs": [
    {
     "data": {
      "image/png": "[encoded data removed]",
      "text/plain": [
       "<Figure size 640x480 with 1 Axes>"
      ]
     },
     "metadata": {},
     "output_type": "display_data"
    }
   ],
   "source": [
    "# Obtém os limites das categorias\n",
    "limites_categorias = np.histogram_bin_edges(\n",
    "    medias_por_filme, \n",
    "    bins=np.linspace(menor_nota, maior_nota, num=num_notas_unicas, endpoint=True)\n",
    ")\n",
    "\n",
    "# Cria um histograma de frequências para as notas\n",
    "plt.hist(x=medias_por_filme, bins=limites_categorias, alpha=0.5, color='b', edgecolor='k')\n",
    "\n",
    "# Rótulo do eixo horizontal\n",
    "plt.xlabel('Média')\n",
    "\n",
    "# Rótulo do eixo vertical\n",
    "plt.ylabel('Frequência')\n",
    "\n",
    "# Título do gráfico\n",
    "plt.title('Histograma de Frequência para as Médias das Notas')\n",
    "\n",
    "# Define os marcadores do eixo horizontal\n",
    "plt.xticks(limites_categorias)\n",
    "\n",
    "# Exibe o histograma\n",
    "plt.show()"
   ]
  },
  {
   "cell_type": "code",
   "execution_count": 38,
   "id": "f480deb3-568a-4c82-92a2-824f253f8bed",
   "metadata": {},
   "outputs": [
    {
     "data": {
      "text/plain": [
       "<Axes: xlabel='nota'>"
      ]
     },
     "execution_count": 38,
     "metadata": {},
     "output_type": "execute_result"
    },
    {
     "data": {
      "image/png": "[encoded data removed]",
      "text/plain": [
       "<Figure size 640x480 with 1 Axes>"
      ]
     },
     "metadata": {},
     "output_type": "display_data"
    }
   ],
   "source": [
    "# Exibe um box plot com a distribuição das notas médias\n",
    "sns.boxplot(\n",
    "    x=medias_por_filme,\n",
    "    width=.5,\n",
    "    flierprops={'marker': '.'},\n",
    "    linewidth=.75\n",
    ")"
   ]
  },
  {
   "attachments": {},
   "cell_type": "markdown",
   "id": "9b26f53b-a0f7-4b62-8379-325f4846c62b",
   "metadata": {
    "tags": []
   },
   "source": [
    "## Analisando alguma Variáveis"
   ]
  },
  {
   "cell_type": "code",
   "execution_count": 40,
   "id": "2452dc01-0fa8-4b25-a213-bc27d7e83d76",
   "metadata": {},
   "outputs": [
    {
     "data": {
      "text/html": [
       "<div>\n",
       "<style scoped>\n",
       "    .dataframe tbody tr th:only-of-type {\n",
       "        vertical-align: middle;\n",
       "    }\n",
       "\n",
       "    .dataframe tbody tr th {\n",
       "        vertical-align: top;\n",
       "    }\n",
       "\n",
       "    .dataframe thead th {\n",
       "        text-align: right;\n",
       "    }\n",
       "</style>\n",
       "<table border=\"1\" class=\"dataframe\">\n",
       "  <thead>\n",
       "    <tr style=\"text-align: right;\">\n",
       "      <th></th>\n",
       "      <th>budget</th>\n",
       "      <th>genres</th>\n",
       "      <th>homepage</th>\n",
       "      <th>id</th>\n",
       "      <th>keywords</th>\n",
       "      <th>original_language</th>\n",
       "      <th>original_title</th>\n",
       "      <th>overview</th>\n",
       "      <th>popularity</th>\n",
       "      <th>production_companies</th>\n",
       "      <th>production_countries</th>\n",
       "      <th>release_date</th>\n",
       "      <th>revenue</th>\n",
       "      <th>runtime</th>\n",
       "      <th>spoken_languages</th>\n",
       "      <th>status</th>\n",
       "      <th>tagline</th>\n",
       "      <th>title</th>\n",
       "      <th>vote_average</th>\n",
       "      <th>vote_count</th>\n",
       "    </tr>\n",
       "  </thead>\n",
       "  <tbody>\n",
       "    <tr>\n",
       "      <th>0</th>\n",
       "      <td>237000000</td>\n",
       "      <td>[{\"id\": 28, \"name\": \"Action\"}, {\"id\": 12, \"nam...</td>\n",
       "      <td>http://www.avatarmovie.com/</td>\n",
       "      <td>19995</td>\n",
       "      <td>[{\"id\": 1463, \"name\": \"culture clash\"}, {\"id\":...</td>\n",
       "      <td>en</td>\n",
       "      <td>Avatar</td>\n",
       "      <td>In the 22nd century, a paraplegic Marine is di...</td>\n",
       "      <td>150.437577</td>\n",
       "      <td>[{\"name\": \"Ingenious Film Partners\", \"id\": 289...</td>\n",
       "      <td>[{\"iso_3166_1\": \"US\", \"name\": \"United States o...</td>\n",
       "      <td>2009-12-10</td>\n",
       "      <td>2787965087</td>\n",
       "      <td>162.0</td>\n",
       "      <td>[{\"iso_639_1\": \"en\", \"name\": \"English\"}, {\"iso...</td>\n",
       "      <td>Released</td>\n",
       "      <td>Enter the World of Pandora.</td>\n",
       "      <td>Avatar</td>\n",
       "      <td>7.2</td>\n",
       "      <td>11800</td>\n",
       "    </tr>\n",
       "    <tr>\n",
       "      <th>1</th>\n",
       "      <td>300000000</td>\n",
       "      <td>[{\"id\": 12, \"name\": \"Adventure\"}, {\"id\": 14, \"...</td>\n",
       "      <td>http://disney.go.com/disneypictures/pirates/</td>\n",
       "      <td>285</td>\n",
       "      <td>[{\"id\": 270, \"name\": \"ocean\"}, {\"id\": 726, \"na...</td>\n",
       "      <td>en</td>\n",
       "      <td>Pirates of the Caribbean: At World's End</td>\n",
       "      <td>Captain Barbossa, long believed to be dead, ha...</td>\n",
       "      <td>139.082615</td>\n",
       "      <td>[{\"name\": \"Walt Disney Pictures\", \"id\": 2}, {\"...</td>\n",
       "      <td>[{\"iso_3166_1\": \"US\", \"name\": \"United States o...</td>\n",
       "      <td>2007-05-19</td>\n",
       "      <td>961000000</td>\n",
       "      <td>169.0</td>\n",
       "      <td>[{\"iso_639_1\": \"en\", \"name\": \"English\"}]</td>\n",
       "      <td>Released</td>\n",
       "      <td>At the end of the world, the adventure begins.</td>\n",
       "      <td>Pirates of the Caribbean: At World's End</td>\n",
       "      <td>6.9</td>\n",
       "      <td>4500</td>\n",
       "    </tr>\n",
       "    <tr>\n",
       "      <th>2</th>\n",
       "      <td>245000000</td>\n",
       "      <td>[{\"id\": 28, \"name\": \"Action\"}, {\"id\": 12, \"nam...</td>\n",
       "      <td>http://www.sonypictures.com/movies/spectre/</td>\n",
       "      <td>206647</td>\n",
       "      <td>[{\"id\": 470, \"name\": \"spy\"}, {\"id\": 818, \"name...</td>\n",
       "      <td>en</td>\n",
       "      <td>Spectre</td>\n",
       "      <td>A cryptic message from Bond’s past sends him o...</td>\n",
       "      <td>107.376788</td>\n",
       "      <td>[{\"name\": \"Columbia Pictures\", \"id\": 5}, {\"nam...</td>\n",
       "      <td>[{\"iso_3166_1\": \"GB\", \"name\": \"United Kingdom\"...</td>\n",
       "      <td>2015-10-26</td>\n",
       "      <td>880674609</td>\n",
       "      <td>148.0</td>\n",
       "      <td>[{\"iso_639_1\": \"fr\", \"name\": \"Fran\\u00e7ais\"},...</td>\n",
       "      <td>Released</td>\n",
       "      <td>A Plan No One Escapes</td>\n",
       "      <td>Spectre</td>\n",
       "      <td>6.3</td>\n",
       "      <td>4466</td>\n",
       "    </tr>\n",
       "    <tr>\n",
       "      <th>3</th>\n",
       "      <td>250000000</td>\n",
       "      <td>[{\"id\": 28, \"name\": \"Action\"}, {\"id\": 80, \"nam...</td>\n",
       "      <td>http://www.thedarkknightrises.com/</td>\n",
       "      <td>49026</td>\n",
       "      <td>[{\"id\": 849, \"name\": \"dc comics\"}, {\"id\": 853,...</td>\n",
       "      <td>en</td>\n",
       "      <td>The Dark Knight Rises</td>\n",
       "      <td>Following the death of District Attorney Harve...</td>\n",
       "      <td>112.312950</td>\n",
       "      <td>[{\"name\": \"Legendary Pictures\", \"id\": 923}, {\"...</td>\n",
       "      <td>[{\"iso_3166_1\": \"US\", \"name\": \"United States o...</td>\n",
       "      <td>2012-07-16</td>\n",
       "      <td>1084939099</td>\n",
       "      <td>165.0</td>\n",
       "      <td>[{\"iso_639_1\": \"en\", \"name\": \"English\"}]</td>\n",
       "      <td>Released</td>\n",
       "      <td>The Legend Ends</td>\n",
       "      <td>The Dark Knight Rises</td>\n",
       "      <td>7.6</td>\n",
       "      <td>9106</td>\n",
       "    </tr>\n",
       "    <tr>\n",
       "      <th>4</th>\n",
       "      <td>260000000</td>\n",
       "      <td>[{\"id\": 28, \"name\": \"Action\"}, {\"id\": 12, \"nam...</td>\n",
       "      <td>http://movies.disney.com/john-carter</td>\n",
       "      <td>49529</td>\n",
       "      <td>[{\"id\": 818, \"name\": \"based on novel\"}, {\"id\":...</td>\n",
       "      <td>en</td>\n",
       "      <td>John Carter</td>\n",
       "      <td>John Carter is a war-weary, former military ca...</td>\n",
       "      <td>43.926995</td>\n",
       "      <td>[{\"name\": \"Walt Disney Pictures\", \"id\": 2}]</td>\n",
       "      <td>[{\"iso_3166_1\": \"US\", \"name\": \"United States o...</td>\n",
       "      <td>2012-03-07</td>\n",
       "      <td>284139100</td>\n",
       "      <td>132.0</td>\n",
       "      <td>[{\"iso_639_1\": \"en\", \"name\": \"English\"}]</td>\n",
       "      <td>Released</td>\n",
       "      <td>Lost in our world, found in another.</td>\n",
       "      <td>John Carter</td>\n",
       "      <td>6.1</td>\n",
       "      <td>2124</td>\n",
       "    </tr>\n",
       "  </tbody>\n",
       "</table>\n",
       "</div>"
      ],
      "text/plain": [
       "      budget                                             genres   \n",
       "0  237000000  [{\"id\": 28, \"name\": \"Action\"}, {\"id\": 12, \"nam...  \\\n",
       "1  300000000  [{\"id\": 12, \"name\": \"Adventure\"}, {\"id\": 14, \"...   \n",
       "2  245000000  [{\"id\": 28, \"name\": \"Action\"}, {\"id\": 12, \"nam...   \n",
       "3  250000000  [{\"id\": 28, \"name\": \"Action\"}, {\"id\": 80, \"nam...   \n",
       "4  260000000  [{\"id\": 28, \"name\": \"Action\"}, {\"id\": 12, \"nam...   \n",
       "\n",
       "                                       homepage      id   \n",
       "0                   http://www.avatarmovie.com/   19995  \\\n",
       "1  http://disney.go.com/disneypictures/pirates/     285   \n",
       "2   http://www.sonypictures.com/movies/spectre/  206647   \n",
       "3            http://www.thedarkknightrises.com/   49026   \n",
       "4          http://movies.disney.com/john-carter   49529   \n",
       "\n",
       "                                            keywords original_language   \n",
       "0  [{\"id\": 1463, \"name\": \"culture clash\"}, {\"id\":...                en  \\\n",
       "1  [{\"id\": 270, \"name\": \"ocean\"}, {\"id\": 726, \"na...                en   \n",
       "2  [{\"id\": 470, \"name\": \"spy\"}, {\"id\": 818, \"name...                en   \n",
       "3  [{\"id\": 849, \"name\": \"dc comics\"}, {\"id\": 853,...                en   \n",
       "4  [{\"id\": 818, \"name\": \"based on novel\"}, {\"id\":...                en   \n",
       "\n",
       "                             original_title   \n",
       "0                                    Avatar  \\\n",
       "1  Pirates of the Caribbean: At World's End   \n",
       "2                                   Spectre   \n",
       "3                     The Dark Knight Rises   \n",
       "4                               John Carter   \n",
       "\n",
       "                                            overview  popularity   \n",
       "0  In the 22nd century, a paraplegic Marine is di...  150.437577  \\\n",
       "1  Captain Barbossa, long believed to be dead, ha...  139.082615   \n",
       "2  A cryptic message from Bond’s past sends him o...  107.376788   \n",
       "3  Following the death of District Attorney Harve...  112.312950   \n",
       "4  John Carter is a war-weary, former military ca...   43.926995   \n",
       "\n",
       "                                production_companies   \n",
       "0  [{\"name\": \"Ingenious Film Partners\", \"id\": 289...  \\\n",
       "1  [{\"name\": \"Walt Disney Pictures\", \"id\": 2}, {\"...   \n",
       "2  [{\"name\": \"Columbia Pictures\", \"id\": 5}, {\"nam...   \n",
       "3  [{\"name\": \"Legendary Pictures\", \"id\": 923}, {\"...   \n",
       "4        [{\"name\": \"Walt Disney Pictures\", \"id\": 2}]   \n",
       "\n",
       "                                production_countries release_date     revenue   \n",
       "0  [{\"iso_3166_1\": \"US\", \"name\": \"United States o...   2009-12-10  2787965087  \\\n",
       "1  [{\"iso_3166_1\": \"US\", \"name\": \"United States o...   2007-05-19   961000000   \n",
       "2  [{\"iso_3166_1\": \"GB\", \"name\": \"United Kingdom\"...   2015-10-26   880674609   \n",
       "3  [{\"iso_3166_1\": \"US\", \"name\": \"United States o...   2012-07-16  1084939099   \n",
       "4  [{\"iso_3166_1\": \"US\", \"name\": \"United States o...   2012-03-07   284139100   \n",
       "\n",
       "   runtime                                   spoken_languages    status   \n",
       "0    162.0  [{\"iso_639_1\": \"en\", \"name\": \"English\"}, {\"iso...  Released  \\\n",
       "1    169.0           [{\"iso_639_1\": \"en\", \"name\": \"English\"}]  Released   \n",
       "2    148.0  [{\"iso_639_1\": \"fr\", \"name\": \"Fran\\u00e7ais\"},...  Released   \n",
       "3    165.0           [{\"iso_639_1\": \"en\", \"name\": \"English\"}]  Released   \n",
       "4    132.0           [{\"iso_639_1\": \"en\", \"name\": \"English\"}]  Released   \n",
       "\n",
       "                                          tagline   \n",
       "0                     Enter the World of Pandora.  \\\n",
       "1  At the end of the world, the adventure begins.   \n",
       "2                           A Plan No One Escapes   \n",
       "3                                 The Legend Ends   \n",
       "4            Lost in our world, found in another.   \n",
       "\n",
       "                                      title  vote_average  vote_count  \n",
       "0                                    Avatar           7.2       11800  \n",
       "1  Pirates of the Caribbean: At World's End           6.9        4500  \n",
       "2                                   Spectre           6.3        4466  \n",
       "3                     The Dark Knight Rises           7.6        9106  \n",
       "4                               John Carter           6.1        2124  "
      ]
     },
     "execution_count": 40,
     "metadata": {},
     "output_type": "execute_result"
    }
   ],
   "source": [
    "# Base de dados do tmdb 5000\n",
    "tmdb = pd.read_csv('tmdb_5000_movies.csv')\n",
    "tmdb.head()"
   ]
  },
  {
   "cell_type": "code",
   "execution_count": 41,
   "id": "9bc0f8de-3aaf-4674-b854-2eae0adc5098",
   "metadata": {},
   "outputs": [
    {
     "data": {
      "text/plain": [
       "array(['en', 'ja', 'fr', 'zh', 'es', 'de', 'hi', 'ru', 'ko', 'te', 'cn',\n",
       "       'it', 'nl', 'ta', 'sv', 'th', 'da', 'xx', 'hu', 'cs', 'pt', 'is',\n",
       "       'tr', 'nb', 'af', 'pl', 'he', 'ar', 'vi', 'ky', 'id', 'ro', 'fa',\n",
       "       'no', 'sl', 'ps', 'el'], dtype=object)"
      ]
     },
     "execution_count": 41,
     "metadata": {},
     "output_type": "execute_result"
    }
   ],
   "source": [
    "# Valores únicos de idiomas\n",
    "tmdb['original_language'].unique()"
   ]
  },
  {
   "cell_type": "markdown",
   "id": "080ce80d-4024-4b79-a6b8-4d0f5443dfbc",
   "metadata": {},
   "source": [
    "- **Tipo de Dado:** qualitativo\n",
    "- **Nível de Mensuração:** nominal"
   ]
  },
  {
   "cell_type": "code",
   "execution_count": 43,
   "id": "25302b79-8511-478c-9f8d-d783cae676cd",
   "metadata": {},
   "outputs": [
    {
     "data": {
      "text/plain": [
       "0       237000000\n",
       "1       300000000\n",
       "2       245000000\n",
       "3       250000000\n",
       "4       260000000\n",
       "          ...    \n",
       "4798       220000\n",
       "4799         9000\n",
       "4800            0\n",
       "4801            0\n",
       "4802            0\n",
       "Name: budget, Length: 4803, dtype: int64"
      ]
     },
     "execution_count": 43,
     "metadata": {},
     "output_type": "execute_result"
    }
   ],
   "source": [
    "tmdb['budget']"
   ]
  },
  {
   "cell_type": "markdown",
   "id": "892f8985-d364-4c33-b022-e38600fe9a4a",
   "metadata": {},
   "source": [
    "- **Tipo de Dado:** quantitativo\n",
    "- **Nível de Mensuração:** razão"
   ]
  },
  {
   "cell_type": "code",
   "execution_count": 44,
   "id": "c08aa7e7-a027-4e5c-b353-81a92bcfcbf1",
   "metadata": {},
   "outputs": [
    {
     "data": {
      "text/plain": [
       "0       11800\n",
       "1        4500\n",
       "2        4466\n",
       "3        9106\n",
       "4        2124\n",
       "        ...  \n",
       "4798      238\n",
       "4799        5\n",
       "4800        6\n",
       "4801        7\n",
       "4802       16\n",
       "Name: vote_count, Length: 4803, dtype: int64"
      ]
     },
     "execution_count": 44,
     "metadata": {},
     "output_type": "execute_result"
    }
   ],
   "source": [
    "tmdb['vote_count']"
   ]
  },
  {
   "cell_type": "markdown",
   "id": "93119c6e-8d0d-4dc6-b46a-0e21f95ee227",
   "metadata": {},
   "source": [
    "- **Tipo de Dado:** quantitativo\n",
    "- **Nível de Mensuração:** razão"
   ]
  },
  {
   "attachments": {},
   "cell_type": "markdown",
   "id": "1a862dc5-d015-40dc-bad0-cba3031367c1",
   "metadata": {
    "tags": []
   },
   "source": [
    "## Visualização de Dados"
   ]
  },
  {
   "cell_type": "code",
   "execution_count": 46,
   "id": "31fa5a9e-279e-4e91-a358-8d6f43f7c567",
   "metadata": {},
   "outputs": [
    {
     "data": {
      "text/plain": [
       "original_language\n",
       "en    4505\n",
       "fr      70\n",
       "es      32\n",
       "zh      27\n",
       "de      27\n",
       "hi      19\n",
       "ja      16\n",
       "it      14\n",
       "cn      12\n",
       "ru      11\n",
       "ko      11\n",
       "pt       9\n",
       "da       7\n",
       "sv       5\n",
       "nl       4\n",
       "fa       4\n",
       "th       3\n",
       "he       3\n",
       "ta       2\n",
       "cs       2\n",
       "ro       2\n",
       "id       2\n",
       "ar       2\n",
       "vi       1\n",
       "sl       1\n",
       "ps       1\n",
       "no       1\n",
       "ky       1\n",
       "hu       1\n",
       "pl       1\n",
       "af       1\n",
       "nb       1\n",
       "tr       1\n",
       "is       1\n",
       "xx       1\n",
       "te       1\n",
       "el       1\n",
       "Name: count, dtype: int64"
      ]
     },
     "execution_count": 46,
     "metadata": {},
     "output_type": "execute_result"
    }
   ],
   "source": [
    "# Conta o número de vezes que cada idioma aparece na coluna original_language\n",
    "tmdb['original_language'].value_counts()"
   ]
  },
  {
   "cell_type": "code",
   "execution_count": 47,
   "id": "b9087d53-8081-470d-8849-c684d6b75ede",
   "metadata": {},
   "outputs": [
    {
     "data": {
      "text/plain": [
       "4505"
      ]
     },
     "execution_count": 47,
     "metadata": {},
     "output_type": "execute_result"
    }
   ],
   "source": [
    "contagem_linguas = tmdb['original_language'].value_counts()\n",
    "contagem_linguas.loc['en']"
   ]
  },
  {
   "cell_type": "code",
   "execution_count": 48,
   "id": "7a9f7d42-3f2c-4a77-b5d9-71e79b05ec05",
   "metadata": {},
   "outputs": [
    {
     "data": {
      "text/plain": [
       "Index(['en', 'fr', 'es', 'zh', 'de', 'hi', 'ja', 'it', 'cn', 'ru', 'ko', 'pt',\n",
       "       'da', 'sv', 'nl', 'fa', 'th', 'he', 'ta', 'cs', 'ro', 'id', 'ar', 'vi',\n",
       "       'sl', 'ps', 'no', 'ky', 'hu', 'pl', 'af', 'nb', 'tr', 'is', 'xx', 'te',\n",
       "       'el'],\n",
       "      dtype='object', name='original_language')"
      ]
     },
     "execution_count": 48,
     "metadata": {},
     "output_type": "execute_result"
    }
   ],
   "source": [
    "# Obtém um array com os índices da série\n",
    "tmdb['original_language'].value_counts().index"
   ]
  },
  {
   "cell_type": "code",
   "execution_count": 50,
   "id": "205c1409-755d-4121-a64d-4951185d505f",
   "metadata": {},
   "outputs": [
    {
     "data": {
      "text/plain": [
       "array([4505,   70,   32,   27,   27,   19,   16,   14,   12,   11,   11,\n",
       "          9,    7,    5,    4,    4,    3,    3,    2,    2,    2,    2,\n",
       "          2,    1,    1,    1,    1,    1,    1,    1,    1,    1,    1,\n",
       "          1,    1,    1,    1])"
      ]
     },
     "execution_count": 50,
     "metadata": {},
     "output_type": "execute_result"
    }
   ],
   "source": [
    "# Obtém um array com os valores da série\n",
    "tmdb['original_language'].value_counts().values"
   ]
  },
  {
   "cell_type": "code",
   "execution_count": 51,
   "id": "02181d2b-ebba-452f-b273-670c2f370515",
   "metadata": {},
   "outputs": [
    {
     "data": {
      "text/html": [
       "<div>\n",
       "<style scoped>\n",
       "    .dataframe tbody tr th:only-of-type {\n",
       "        vertical-align: middle;\n",
       "    }\n",
       "\n",
       "    .dataframe tbody tr th {\n",
       "        vertical-align: top;\n",
       "    }\n",
       "\n",
       "    .dataframe thead th {\n",
       "        text-align: right;\n",
       "    }\n",
       "</style>\n",
       "<table border=\"1\" class=\"dataframe\">\n",
       "  <thead>\n",
       "    <tr style=\"text-align: right;\">\n",
       "      <th></th>\n",
       "      <th>count</th>\n",
       "    </tr>\n",
       "    <tr>\n",
       "      <th>original_language</th>\n",
       "      <th></th>\n",
       "    </tr>\n",
       "  </thead>\n",
       "  <tbody>\n",
       "    <tr>\n",
       "      <th>en</th>\n",
       "      <td>4505</td>\n",
       "    </tr>\n",
       "    <tr>\n",
       "      <th>fr</th>\n",
       "      <td>70</td>\n",
       "    </tr>\n",
       "    <tr>\n",
       "      <th>es</th>\n",
       "      <td>32</td>\n",
       "    </tr>\n",
       "    <tr>\n",
       "      <th>zh</th>\n",
       "      <td>27</td>\n",
       "    </tr>\n",
       "    <tr>\n",
       "      <th>de</th>\n",
       "      <td>27</td>\n",
       "    </tr>\n",
       "    <tr>\n",
       "      <th>hi</th>\n",
       "      <td>19</td>\n",
       "    </tr>\n",
       "    <tr>\n",
       "      <th>ja</th>\n",
       "      <td>16</td>\n",
       "    </tr>\n",
       "    <tr>\n",
       "      <th>it</th>\n",
       "      <td>14</td>\n",
       "    </tr>\n",
       "    <tr>\n",
       "      <th>cn</th>\n",
       "      <td>12</td>\n",
       "    </tr>\n",
       "    <tr>\n",
       "      <th>ru</th>\n",
       "      <td>11</td>\n",
       "    </tr>\n",
       "    <tr>\n",
       "      <th>ko</th>\n",
       "      <td>11</td>\n",
       "    </tr>\n",
       "    <tr>\n",
       "      <th>pt</th>\n",
       "      <td>9</td>\n",
       "    </tr>\n",
       "    <tr>\n",
       "      <th>da</th>\n",
       "      <td>7</td>\n",
       "    </tr>\n",
       "    <tr>\n",
       "      <th>sv</th>\n",
       "      <td>5</td>\n",
       "    </tr>\n",
       "    <tr>\n",
       "      <th>nl</th>\n",
       "      <td>4</td>\n",
       "    </tr>\n",
       "    <tr>\n",
       "      <th>fa</th>\n",
       "      <td>4</td>\n",
       "    </tr>\n",
       "    <tr>\n",
       "      <th>th</th>\n",
       "      <td>3</td>\n",
       "    </tr>\n",
       "    <tr>\n",
       "      <th>he</th>\n",
       "      <td>3</td>\n",
       "    </tr>\n",
       "    <tr>\n",
       "      <th>ta</th>\n",
       "      <td>2</td>\n",
       "    </tr>\n",
       "    <tr>\n",
       "      <th>cs</th>\n",
       "      <td>2</td>\n",
       "    </tr>\n",
       "    <tr>\n",
       "      <th>ro</th>\n",
       "      <td>2</td>\n",
       "    </tr>\n",
       "    <tr>\n",
       "      <th>id</th>\n",
       "      <td>2</td>\n",
       "    </tr>\n",
       "    <tr>\n",
       "      <th>ar</th>\n",
       "      <td>2</td>\n",
       "    </tr>\n",
       "    <tr>\n",
       "      <th>vi</th>\n",
       "      <td>1</td>\n",
       "    </tr>\n",
       "    <tr>\n",
       "      <th>sl</th>\n",
       "      <td>1</td>\n",
       "    </tr>\n",
       "    <tr>\n",
       "      <th>ps</th>\n",
       "      <td>1</td>\n",
       "    </tr>\n",
       "    <tr>\n",
       "      <th>no</th>\n",
       "      <td>1</td>\n",
       "    </tr>\n",
       "    <tr>\n",
       "      <th>ky</th>\n",
       "      <td>1</td>\n",
       "    </tr>\n",
       "    <tr>\n",
       "      <th>hu</th>\n",
       "      <td>1</td>\n",
       "    </tr>\n",
       "    <tr>\n",
       "      <th>pl</th>\n",
       "      <td>1</td>\n",
       "    </tr>\n",
       "    <tr>\n",
       "      <th>af</th>\n",
       "      <td>1</td>\n",
       "    </tr>\n",
       "    <tr>\n",
       "      <th>nb</th>\n",
       "      <td>1</td>\n",
       "    </tr>\n",
       "    <tr>\n",
       "      <th>tr</th>\n",
       "      <td>1</td>\n",
       "    </tr>\n",
       "    <tr>\n",
       "      <th>is</th>\n",
       "      <td>1</td>\n",
       "    </tr>\n",
       "    <tr>\n",
       "      <th>xx</th>\n",
       "      <td>1</td>\n",
       "    </tr>\n",
       "    <tr>\n",
       "      <th>te</th>\n",
       "      <td>1</td>\n",
       "    </tr>\n",
       "    <tr>\n",
       "      <th>el</th>\n",
       "      <td>1</td>\n",
       "    </tr>\n",
       "  </tbody>\n",
       "</table>\n",
       "</div>"
      ],
      "text/plain": [
       "                   count\n",
       "original_language       \n",
       "en                  4505\n",
       "fr                    70\n",
       "es                    32\n",
       "zh                    27\n",
       "de                    27\n",
       "hi                    19\n",
       "ja                    16\n",
       "it                    14\n",
       "cn                    12\n",
       "ru                    11\n",
       "ko                    11\n",
       "pt                     9\n",
       "da                     7\n",
       "sv                     5\n",
       "nl                     4\n",
       "fa                     4\n",
       "th                     3\n",
       "he                     3\n",
       "ta                     2\n",
       "cs                     2\n",
       "ro                     2\n",
       "id                     2\n",
       "ar                     2\n",
       "vi                     1\n",
       "sl                     1\n",
       "ps                     1\n",
       "no                     1\n",
       "ky                     1\n",
       "hu                     1\n",
       "pl                     1\n",
       "af                     1\n",
       "nb                     1\n",
       "tr                     1\n",
       "is                     1\n",
       "xx                     1\n",
       "te                     1\n",
       "el                     1"
      ]
     },
     "execution_count": 51,
     "metadata": {},
     "output_type": "execute_result"
    }
   ],
   "source": [
    "# Converte a série em um dataframe\n",
    "tmdb['original_language'].value_counts().to_frame()"
   ]
  },
  {
   "cell_type": "code",
   "execution_count": 52,
   "id": "600abdb7-69dc-49d7-976b-6b0298a42690",
   "metadata": {},
   "outputs": [
    {
     "data": {
      "text/html": [
       "<div>\n",
       "<style scoped>\n",
       "    .dataframe tbody tr th:only-of-type {\n",
       "        vertical-align: middle;\n",
       "    }\n",
       "\n",
       "    .dataframe tbody tr th {\n",
       "        vertical-align: top;\n",
       "    }\n",
       "\n",
       "    .dataframe thead th {\n",
       "        text-align: right;\n",
       "    }\n",
       "</style>\n",
       "<table border=\"1\" class=\"dataframe\">\n",
       "  <thead>\n",
       "    <tr style=\"text-align: right;\">\n",
       "      <th></th>\n",
       "      <th>original_language</th>\n",
       "      <th>count</th>\n",
       "    </tr>\n",
       "  </thead>\n",
       "  <tbody>\n",
       "    <tr>\n",
       "      <th>0</th>\n",
       "      <td>en</td>\n",
       "      <td>4505</td>\n",
       "    </tr>\n",
       "    <tr>\n",
       "      <th>1</th>\n",
       "      <td>fr</td>\n",
       "      <td>70</td>\n",
       "    </tr>\n",
       "    <tr>\n",
       "      <th>2</th>\n",
       "      <td>es</td>\n",
       "      <td>32</td>\n",
       "    </tr>\n",
       "    <tr>\n",
       "      <th>3</th>\n",
       "      <td>zh</td>\n",
       "      <td>27</td>\n",
       "    </tr>\n",
       "    <tr>\n",
       "      <th>4</th>\n",
       "      <td>de</td>\n",
       "      <td>27</td>\n",
       "    </tr>\n",
       "    <tr>\n",
       "      <th>5</th>\n",
       "      <td>hi</td>\n",
       "      <td>19</td>\n",
       "    </tr>\n",
       "    <tr>\n",
       "      <th>6</th>\n",
       "      <td>ja</td>\n",
       "      <td>16</td>\n",
       "    </tr>\n",
       "    <tr>\n",
       "      <th>7</th>\n",
       "      <td>it</td>\n",
       "      <td>14</td>\n",
       "    </tr>\n",
       "    <tr>\n",
       "      <th>8</th>\n",
       "      <td>cn</td>\n",
       "      <td>12</td>\n",
       "    </tr>\n",
       "    <tr>\n",
       "      <th>9</th>\n",
       "      <td>ru</td>\n",
       "      <td>11</td>\n",
       "    </tr>\n",
       "    <tr>\n",
       "      <th>10</th>\n",
       "      <td>ko</td>\n",
       "      <td>11</td>\n",
       "    </tr>\n",
       "    <tr>\n",
       "      <th>11</th>\n",
       "      <td>pt</td>\n",
       "      <td>9</td>\n",
       "    </tr>\n",
       "    <tr>\n",
       "      <th>12</th>\n",
       "      <td>da</td>\n",
       "      <td>7</td>\n",
       "    </tr>\n",
       "    <tr>\n",
       "      <th>13</th>\n",
       "      <td>sv</td>\n",
       "      <td>5</td>\n",
       "    </tr>\n",
       "    <tr>\n",
       "      <th>14</th>\n",
       "      <td>nl</td>\n",
       "      <td>4</td>\n",
       "    </tr>\n",
       "    <tr>\n",
       "      <th>15</th>\n",
       "      <td>fa</td>\n",
       "      <td>4</td>\n",
       "    </tr>\n",
       "    <tr>\n",
       "      <th>16</th>\n",
       "      <td>th</td>\n",
       "      <td>3</td>\n",
       "    </tr>\n",
       "    <tr>\n",
       "      <th>17</th>\n",
       "      <td>he</td>\n",
       "      <td>3</td>\n",
       "    </tr>\n",
       "    <tr>\n",
       "      <th>18</th>\n",
       "      <td>ta</td>\n",
       "      <td>2</td>\n",
       "    </tr>\n",
       "    <tr>\n",
       "      <th>19</th>\n",
       "      <td>cs</td>\n",
       "      <td>2</td>\n",
       "    </tr>\n",
       "    <tr>\n",
       "      <th>20</th>\n",
       "      <td>ro</td>\n",
       "      <td>2</td>\n",
       "    </tr>\n",
       "    <tr>\n",
       "      <th>21</th>\n",
       "      <td>id</td>\n",
       "      <td>2</td>\n",
       "    </tr>\n",
       "    <tr>\n",
       "      <th>22</th>\n",
       "      <td>ar</td>\n",
       "      <td>2</td>\n",
       "    </tr>\n",
       "    <tr>\n",
       "      <th>23</th>\n",
       "      <td>vi</td>\n",
       "      <td>1</td>\n",
       "    </tr>\n",
       "    <tr>\n",
       "      <th>24</th>\n",
       "      <td>sl</td>\n",
       "      <td>1</td>\n",
       "    </tr>\n",
       "    <tr>\n",
       "      <th>25</th>\n",
       "      <td>ps</td>\n",
       "      <td>1</td>\n",
       "    </tr>\n",
       "    <tr>\n",
       "      <th>26</th>\n",
       "      <td>no</td>\n",
       "      <td>1</td>\n",
       "    </tr>\n",
       "    <tr>\n",
       "      <th>27</th>\n",
       "      <td>ky</td>\n",
       "      <td>1</td>\n",
       "    </tr>\n",
       "    <tr>\n",
       "      <th>28</th>\n",
       "      <td>hu</td>\n",
       "      <td>1</td>\n",
       "    </tr>\n",
       "    <tr>\n",
       "      <th>29</th>\n",
       "      <td>pl</td>\n",
       "      <td>1</td>\n",
       "    </tr>\n",
       "    <tr>\n",
       "      <th>30</th>\n",
       "      <td>af</td>\n",
       "      <td>1</td>\n",
       "    </tr>\n",
       "    <tr>\n",
       "      <th>31</th>\n",
       "      <td>nb</td>\n",
       "      <td>1</td>\n",
       "    </tr>\n",
       "    <tr>\n",
       "      <th>32</th>\n",
       "      <td>tr</td>\n",
       "      <td>1</td>\n",
       "    </tr>\n",
       "    <tr>\n",
       "      <th>33</th>\n",
       "      <td>is</td>\n",
       "      <td>1</td>\n",
       "    </tr>\n",
       "    <tr>\n",
       "      <th>34</th>\n",
       "      <td>xx</td>\n",
       "      <td>1</td>\n",
       "    </tr>\n",
       "    <tr>\n",
       "      <th>35</th>\n",
       "      <td>te</td>\n",
       "      <td>1</td>\n",
       "    </tr>\n",
       "    <tr>\n",
       "      <th>36</th>\n",
       "      <td>el</td>\n",
       "      <td>1</td>\n",
       "    </tr>\n",
       "  </tbody>\n",
       "</table>\n",
       "</div>"
      ],
      "text/plain": [
       "   original_language  count\n",
       "0                 en   4505\n",
       "1                 fr     70\n",
       "2                 es     32\n",
       "3                 zh     27\n",
       "4                 de     27\n",
       "5                 hi     19\n",
       "6                 ja     16\n",
       "7                 it     14\n",
       "8                 cn     12\n",
       "9                 ru     11\n",
       "10                ko     11\n",
       "11                pt      9\n",
       "12                da      7\n",
       "13                sv      5\n",
       "14                nl      4\n",
       "15                fa      4\n",
       "16                th      3\n",
       "17                he      3\n",
       "18                ta      2\n",
       "19                cs      2\n",
       "20                ro      2\n",
       "21                id      2\n",
       "22                ar      2\n",
       "23                vi      1\n",
       "24                sl      1\n",
       "25                ps      1\n",
       "26                no      1\n",
       "27                ky      1\n",
       "28                hu      1\n",
       "29                pl      1\n",
       "30                af      1\n",
       "31                nb      1\n",
       "32                tr      1\n",
       "33                is      1\n",
       "34                xx      1\n",
       "35                te      1\n",
       "36                el      1"
      ]
     },
     "execution_count": 52,
     "metadata": {},
     "output_type": "execute_result"
    }
   ],
   "source": [
    "# Reseta os índices\n",
    "tmdb['original_language'].value_counts().to_frame().reset_index()"
   ]
  },
  {
   "cell_type": "code",
   "execution_count": 53,
   "id": "7ab41284-48cb-401f-86f6-bb8d3e52de83",
   "metadata": {},
   "outputs": [
    {
     "data": {
      "text/html": [
       "<div>\n",
       "<style scoped>\n",
       "    .dataframe tbody tr th:only-of-type {\n",
       "        vertical-align: middle;\n",
       "    }\n",
       "\n",
       "    .dataframe tbody tr th {\n",
       "        vertical-align: top;\n",
       "    }\n",
       "\n",
       "    .dataframe thead th {\n",
       "        text-align: right;\n",
       "    }\n",
       "</style>\n",
       "<table border=\"1\" class=\"dataframe\">\n",
       "  <thead>\n",
       "    <tr style=\"text-align: right;\">\n",
       "      <th></th>\n",
       "      <th>original_language</th>\n",
       "      <th>total</th>\n",
       "    </tr>\n",
       "  </thead>\n",
       "  <tbody>\n",
       "    <tr>\n",
       "      <th>0</th>\n",
       "      <td>en</td>\n",
       "      <td>4505</td>\n",
       "    </tr>\n",
       "    <tr>\n",
       "      <th>1</th>\n",
       "      <td>fr</td>\n",
       "      <td>70</td>\n",
       "    </tr>\n",
       "    <tr>\n",
       "      <th>2</th>\n",
       "      <td>es</td>\n",
       "      <td>32</td>\n",
       "    </tr>\n",
       "    <tr>\n",
       "      <th>3</th>\n",
       "      <td>zh</td>\n",
       "      <td>27</td>\n",
       "    </tr>\n",
       "    <tr>\n",
       "      <th>4</th>\n",
       "      <td>de</td>\n",
       "      <td>27</td>\n",
       "    </tr>\n",
       "  </tbody>\n",
       "</table>\n",
       "</div>"
      ],
      "text/plain": [
       "  original_language  total\n",
       "0                en   4505\n",
       "1                fr     70\n",
       "2                es     32\n",
       "3                zh     27\n",
       "4                de     27"
      ]
     },
     "execution_count": 53,
     "metadata": {},
     "output_type": "execute_result"
    }
   ],
   "source": [
    "contagem_de_linguas = tmdb['original_language'].value_counts().to_frame().reset_index()\n",
    "contagem_de_linguas.columns = ['original_language', 'total']\n",
    "contagem_de_linguas.head()"
   ]
  },
  {
   "cell_type": "code",
   "execution_count": 54,
   "id": "c56efba9-09c1-4cfc-9fef-79c43fff9e4b",
   "metadata": {},
   "outputs": [
    {
     "data": {
      "text/plain": [
       "<Axes: xlabel='original_language', ylabel='total'>"
      ]
     },
     "execution_count": 54,
     "metadata": {},
     "output_type": "execute_result"
    },
    {
     "data": {
      "image/png": "[encoded data removed]",
      "text/plain": [
       "<Figure size 640x480 with 1 Axes>"
      ]
     },
     "metadata": {},
     "output_type": "display_data"
    }
   ],
   "source": [
    "sns.barplot(x='original_language', y='total', data=contagem_de_linguas)"
   ]
  },
  {
   "attachments": {},
   "cell_type": "markdown",
   "id": "a54361a4-0783-4cea-8811-ac299badb046",
   "metadata": {},
   "source": [
    "Para o conjunto de dados que estamos analisando, o gráfico de barras nos informa que existem mais filmes na língua inglesa do que nas demais línguas. No entanto, ele nos diz pouco acerca da quantidade de filmes produzidos em outros idiomas, porque as barras menores não são vistas claramente. Além disso, os rótulos do eixo horizontal estão sobrepostos."
   ]
  },
  {
   "attachments": {},
   "cell_type": "markdown",
   "id": "27c43506-e8b8-4052-af9c-d0447da7246a",
   "metadata": {},
   "source": [
    "Em vez de criarmos um dataframe com a contagem do número de aparições de cada idioma para depois plotarmos um gráfico de barras com `sns.barplot()`, podemos usar um gráfico de categorias — `sns.catplot()` — e especificar um tipo de agregação como contagem."
   ]
  },
  {
   "cell_type": "code",
   "execution_count": 55,
   "id": "826010ee-32da-4d64-b9c0-8dfa15d3999c",
   "metadata": {},
   "outputs": [
    {
     "data": {
      "text/plain": [
       "<seaborn.axisgrid.FacetGrid at 0x7f5913672a50>"
      ]
     },
     "execution_count": 55,
     "metadata": {},
     "output_type": "execute_result"
    },
    {
     "data": {
      "image/png": "[encoded data removed]",
      "text/plain": [
       "<Figure size 500x500 with 1 Axes>"
      ]
     },
     "metadata": {},
     "output_type": "display_data"
    }
   ],
   "source": [
    "# Conta o número de aparições de cada idioma e plota um gráfico de barras\n",
    "sns.catplot(x='original_language', kind='count', data=tmdb)"
   ]
  },
  {
   "cell_type": "code",
   "execution_count": 56,
   "id": "6e302849-8a7f-4a5d-9cb6-99dfd71903b4",
   "metadata": {},
   "outputs": [
    {
     "data": {
      "text/plain": [
       "original_language\n",
       "en    4505\n",
       "fr      70\n",
       "es      32\n",
       "zh      27\n",
       "de      27\n",
       "hi      19\n",
       "ja      16\n",
       "it      14\n",
       "cn      12\n",
       "ru      11\n",
       "ko      11\n",
       "pt       9\n",
       "da       7\n",
       "sv       5\n",
       "nl       4\n",
       "fa       4\n",
       "th       3\n",
       "he       3\n",
       "ta       2\n",
       "cs       2\n",
       "ro       2\n",
       "id       2\n",
       "ar       2\n",
       "vi       1\n",
       "sl       1\n",
       "ps       1\n",
       "no       1\n",
       "ky       1\n",
       "hu       1\n",
       "pl       1\n",
       "af       1\n",
       "nb       1\n",
       "tr       1\n",
       "is       1\n",
       "xx       1\n",
       "te       1\n",
       "el       1\n",
       "Name: count, dtype: int64"
      ]
     },
     "execution_count": 56,
     "metadata": {},
     "output_type": "execute_result"
    }
   ],
   "source": [
    "total_por_lingua = tmdb['original_language'].value_counts()\n",
    "total_por_lingua"
   ]
  },
  {
   "cell_type": "code",
   "execution_count": 57,
   "id": "2d9b3e30-4d4b-4c78-9f57-2625c8938d38",
   "metadata": {},
   "outputs": [
    {
     "name": "stdout",
     "output_type": "stream",
     "text": [
      "Total Geral: 4803\n",
      "Total Inglês: 4505\n",
      "Total Resto: 298\n"
     ]
    }
   ],
   "source": [
    "# Soma os valores da série\n",
    "total_geral = total_por_lingua.sum()\n",
    "\n",
    "# Obtém o total para inglês\n",
    "total_ingles = total_por_lingua.loc['en']\n",
    "\n",
    "# Obtém o total para as outras línguas\n",
    "total_resto = total_geral - total_ingles\n",
    "\n",
    "# Exibição\n",
    "print(f'Total Geral: {total_geral}')\n",
    "print(f'Total Inglês: {total_ingles}')\n",
    "print(f'Total Resto: {total_resto}')"
   ]
  },
  {
   "cell_type": "code",
   "execution_count": 58,
   "id": "5c73a880-5d59-4191-9f9e-2b7041b97bbc",
   "metadata": {},
   "outputs": [
    {
     "data": {
      "text/plain": [
       "<Axes: xlabel='lingua', ylabel='totais'>"
      ]
     },
     "execution_count": 58,
     "metadata": {},
     "output_type": "execute_result"
    },
    {
     "data": {
      "image/png": "[encoded data removed]",
      "text/plain": [
       "<Figure size 640x480 with 1 Axes>"
      ]
     },
     "metadata": {},
     "output_type": "display_data"
    }
   ],
   "source": [
    "# Cria um dicionário para armazenar os dados que obtivemos\n",
    "dados = {\n",
    "    'lingua': ['Inglês', 'Outras'],\n",
    "    'totais': [total_ingles, total_resto]\n",
    "}\n",
    "\n",
    "# Cria um dataframe a partir do dicionário acima\n",
    "df = pd.DataFrame(dados)\n",
    "\n",
    "# Plota um gráfico de barras a partir do dataframe\n",
    "sns.barplot(x='lingua', y='totais', data=df)"
   ]
  },
  {
   "attachments": {},
   "cell_type": "markdown",
   "id": "d938486f-0256-4b10-b873-4deb8ee048b5",
   "metadata": {},
   "source": [
    "Com esta visualização nossa mensagem fica muito mais clara: Existem muito mais filmes em inglês do que filmes em outras línguas, mesmo quando estes últimos são considerados juntos."
   ]
  },
  {
   "cell_type": "code",
   "execution_count": 59,
   "id": "1ef78fbc-a1a6-4709-8aeb-6e1e99bd1564",
   "metadata": {},
   "outputs": [
    {
     "data": {
      "text/html": [
       "<div>\n",
       "<style scoped>\n",
       "    .dataframe tbody tr th:only-of-type {\n",
       "        vertical-align: middle;\n",
       "    }\n",
       "\n",
       "    .dataframe tbody tr th {\n",
       "        vertical-align: top;\n",
       "    }\n",
       "\n",
       "    .dataframe thead th {\n",
       "        text-align: right;\n",
       "    }\n",
       "</style>\n",
       "<table border=\"1\" class=\"dataframe\">\n",
       "  <thead>\n",
       "    <tr style=\"text-align: right;\">\n",
       "      <th></th>\n",
       "      <th>budget</th>\n",
       "      <th>genres</th>\n",
       "      <th>homepage</th>\n",
       "      <th>id</th>\n",
       "      <th>keywords</th>\n",
       "      <th>original_language</th>\n",
       "      <th>original_title</th>\n",
       "      <th>overview</th>\n",
       "      <th>popularity</th>\n",
       "      <th>production_companies</th>\n",
       "      <th>production_countries</th>\n",
       "      <th>release_date</th>\n",
       "      <th>revenue</th>\n",
       "      <th>runtime</th>\n",
       "      <th>spoken_languages</th>\n",
       "      <th>status</th>\n",
       "      <th>tagline</th>\n",
       "      <th>title</th>\n",
       "      <th>vote_average</th>\n",
       "      <th>vote_count</th>\n",
       "    </tr>\n",
       "  </thead>\n",
       "  <tbody>\n",
       "    <tr>\n",
       "      <th>97</th>\n",
       "      <td>15000000</td>\n",
       "      <td>[{\"id\": 28, \"name\": \"Action\"}, {\"id\": 12, \"nam...</td>\n",
       "      <td>NaN</td>\n",
       "      <td>315011</td>\n",
       "      <td>[{\"id\": 1299, \"name\": \"monster\"}, {\"id\": 7671,...</td>\n",
       "      <td>ja</td>\n",
       "      <td>シン・ゴジラ</td>\n",
       "      <td>From the mind behind Evangelion comes a hit la...</td>\n",
       "      <td>9.476999</td>\n",
       "      <td>[{\"name\": \"Cine Bazar\", \"id\": 5896}, {\"name\": ...</td>\n",
       "      <td>[{\"iso_3166_1\": \"JP\", \"name\": \"Japan\"}]</td>\n",
       "      <td>2016-07-29</td>\n",
       "      <td>77000000</td>\n",
       "      <td>120.0</td>\n",
       "      <td>[{\"iso_639_1\": \"it\", \"name\": \"Italiano\"}, {\"is...</td>\n",
       "      <td>Released</td>\n",
       "      <td>A god incarnate. A city doomed.</td>\n",
       "      <td>Shin Godzilla</td>\n",
       "      <td>6.5</td>\n",
       "      <td>143</td>\n",
       "    </tr>\n",
       "    <tr>\n",
       "      <th>235</th>\n",
       "      <td>97250400</td>\n",
       "      <td>[{\"id\": 14, \"name\": \"Fantasy\"}, {\"id\": 12, \"na...</td>\n",
       "      <td>http://www.asterixauxjeuxolympiques.com/index.php</td>\n",
       "      <td>2395</td>\n",
       "      <td>[{\"id\": 271, \"name\": \"competition\"}, {\"id\": 12...</td>\n",
       "      <td>fr</td>\n",
       "      <td>Astérix aux Jeux Olympiques</td>\n",
       "      <td>Astérix and Obélix have to win the Olympic Gam...</td>\n",
       "      <td>20.344364</td>\n",
       "      <td>[{\"name\": \"Constantin Film\", \"id\": 47}, {\"name...</td>\n",
       "      <td>[{\"iso_3166_1\": \"BE\", \"name\": \"Belgium\"}, {\"is...</td>\n",
       "      <td>2008-01-13</td>\n",
       "      <td>132900000</td>\n",
       "      <td>116.0</td>\n",
       "      <td>[{\"iso_639_1\": \"fr\", \"name\": \"Fran\\u00e7ais\"},...</td>\n",
       "      <td>Released</td>\n",
       "      <td>NaN</td>\n",
       "      <td>Asterix at the Olympic Games</td>\n",
       "      <td>5.0</td>\n",
       "      <td>471</td>\n",
       "    </tr>\n",
       "    <tr>\n",
       "      <th>317</th>\n",
       "      <td>94000000</td>\n",
       "      <td>[{\"id\": 18, \"name\": \"Drama\"}, {\"id\": 36, \"name...</td>\n",
       "      <td>http://www.theflowersofwarmovie.com/</td>\n",
       "      <td>76758</td>\n",
       "      <td>[{\"id\": 173251, \"name\": \"forced prostitution\"}...</td>\n",
       "      <td>zh</td>\n",
       "      <td>金陵十三釵</td>\n",
       "      <td>A Westerner finds refuge with a group of women...</td>\n",
       "      <td>12.516546</td>\n",
       "      <td>[{\"name\": \"Beijing New Picture Film Co. Ltd.\",...</td>\n",
       "      <td>[{\"iso_3166_1\": \"CN\", \"name\": \"China\"}, {\"iso_...</td>\n",
       "      <td>2011-12-15</td>\n",
       "      <td>95311434</td>\n",
       "      <td>145.0</td>\n",
       "      <td>[{\"iso_639_1\": \"zh\", \"name\": \"\\u666e\\u901a\\u8b...</td>\n",
       "      <td>Released</td>\n",
       "      <td>NaN</td>\n",
       "      <td>The Flowers of War</td>\n",
       "      <td>7.1</td>\n",
       "      <td>187</td>\n",
       "    </tr>\n",
       "    <tr>\n",
       "      <th>474</th>\n",
       "      <td>0</td>\n",
       "      <td>[{\"id\": 9648, \"name\": \"Mystery\"}, {\"id\": 18, \"...</td>\n",
       "      <td>NaN</td>\n",
       "      <td>330770</td>\n",
       "      <td>[{\"id\": 428, \"name\": \"nurse\"}, {\"id\": 658, \"na...</td>\n",
       "      <td>fr</td>\n",
       "      <td>Évolution</td>\n",
       "      <td>11-year-old Nicolas lives with his mother in a...</td>\n",
       "      <td>3.300061</td>\n",
       "      <td>[{\"name\": \"Ex Nihilo\", \"id\": 3307}, {\"name\": \"...</td>\n",
       "      <td>[{\"iso_3166_1\": \"BE\", \"name\": \"Belgium\"}, {\"is...</td>\n",
       "      <td>2015-09-14</td>\n",
       "      <td>0</td>\n",
       "      <td>81.0</td>\n",
       "      <td>[{\"iso_639_1\": \"fr\", \"name\": \"Fran\\u00e7ais\"}]</td>\n",
       "      <td>Released</td>\n",
       "      <td>NaN</td>\n",
       "      <td>Evolution</td>\n",
       "      <td>6.4</td>\n",
       "      <td>47</td>\n",
       "    </tr>\n",
       "    <tr>\n",
       "      <th>492</th>\n",
       "      <td>8000000</td>\n",
       "      <td>[{\"id\": 35, \"name\": \"Comedy\"}, {\"id\": 16, \"nam...</td>\n",
       "      <td>NaN</td>\n",
       "      <td>293644</td>\n",
       "      <td>[{\"id\": 209714, \"name\": \"3d\"}]</td>\n",
       "      <td>es</td>\n",
       "      <td>Don Gato: El inicio de la pandilla</td>\n",
       "      <td>Top Cat has arrived to charm his way into your...</td>\n",
       "      <td>0.719996</td>\n",
       "      <td>[{\"name\": \"Anima Estudios\", \"id\": 9965}, {\"nam...</td>\n",
       "      <td>[{\"iso_3166_1\": \"IN\", \"name\": \"India\"}, {\"iso_...</td>\n",
       "      <td>2015-10-30</td>\n",
       "      <td>0</td>\n",
       "      <td>89.0</td>\n",
       "      <td>[]</td>\n",
       "      <td>Released</td>\n",
       "      <td>NaN</td>\n",
       "      <td>Top Cat Begins</td>\n",
       "      <td>5.3</td>\n",
       "      <td>9</td>\n",
       "    </tr>\n",
       "    <tr>\n",
       "      <th>...</th>\n",
       "      <td>...</td>\n",
       "      <td>...</td>\n",
       "      <td>...</td>\n",
       "      <td>...</td>\n",
       "      <td>...</td>\n",
       "      <td>...</td>\n",
       "      <td>...</td>\n",
       "      <td>...</td>\n",
       "      <td>...</td>\n",
       "      <td>...</td>\n",
       "      <td>...</td>\n",
       "      <td>...</td>\n",
       "      <td>...</td>\n",
       "      <td>...</td>\n",
       "      <td>...</td>\n",
       "      <td>...</td>\n",
       "      <td>...</td>\n",
       "      <td>...</td>\n",
       "      <td>...</td>\n",
       "      <td>...</td>\n",
       "    </tr>\n",
       "    <tr>\n",
       "      <th>4739</th>\n",
       "      <td>0</td>\n",
       "      <td>[{\"id\": 35, \"name\": \"Comedy\"}, {\"id\": 10749, \"...</td>\n",
       "      <td>NaN</td>\n",
       "      <td>90414</td>\n",
       "      <td>[{\"id\": 187056, \"name\": \"woman director\"}]</td>\n",
       "      <td>fr</td>\n",
       "      <td>I Love You, Don't Touch Me!</td>\n",
       "      <td>The story of a 25 year old virgin girl, lookin...</td>\n",
       "      <td>0.020839</td>\n",
       "      <td>[]</td>\n",
       "      <td>[{\"iso_3166_1\": \"US\", \"name\": \"United States o...</td>\n",
       "      <td>1997-01-21</td>\n",
       "      <td>0</td>\n",
       "      <td>86.0</td>\n",
       "      <td>[{\"iso_639_1\": \"en\", \"name\": \"English\"}]</td>\n",
       "      <td>Released</td>\n",
       "      <td>Just Your Typical Boy-Loves-Girl Who Doesn't L...</td>\n",
       "      <td>I Love You, Don't Touch Me!</td>\n",
       "      <td>6.0</td>\n",
       "      <td>1</td>\n",
       "    </tr>\n",
       "    <tr>\n",
       "      <th>4751</th>\n",
       "      <td>0</td>\n",
       "      <td>[{\"id\": 18, \"name\": \"Drama\"}, {\"id\": 10749, \"n...</td>\n",
       "      <td>NaN</td>\n",
       "      <td>42109</td>\n",
       "      <td>[]</td>\n",
       "      <td>pt</td>\n",
       "      <td>Gabriela, Cravo e Canela</td>\n",
       "      <td>In 1925, Gabriela becomes cook, mistress, and ...</td>\n",
       "      <td>0.557602</td>\n",
       "      <td>[{\"name\": \"United Artists\", \"id\": 60}, {\"name\"...</td>\n",
       "      <td>[{\"iso_3166_1\": \"BR\", \"name\": \"Brazil\"}]</td>\n",
       "      <td>1983-03-24</td>\n",
       "      <td>0</td>\n",
       "      <td>99.0</td>\n",
       "      <td>[{\"iso_639_1\": \"pt\", \"name\": \"Portugu\\u00eas\"}]</td>\n",
       "      <td>Released</td>\n",
       "      <td>NaN</td>\n",
       "      <td>Gabriela</td>\n",
       "      <td>6.0</td>\n",
       "      <td>2</td>\n",
       "    </tr>\n",
       "    <tr>\n",
       "      <th>4790</th>\n",
       "      <td>0</td>\n",
       "      <td>[{\"id\": 18, \"name\": \"Drama\"}, {\"id\": 10769, \"n...</td>\n",
       "      <td>NaN</td>\n",
       "      <td>13898</td>\n",
       "      <td>[]</td>\n",
       "      <td>fa</td>\n",
       "      <td>دایره</td>\n",
       "      <td>Various women struggle to function in the oppr...</td>\n",
       "      <td>1.193779</td>\n",
       "      <td>[{\"name\": \"Jafar Panahi Film Productions\", \"id...</td>\n",
       "      <td>[{\"iso_3166_1\": \"IR\", \"name\": \"Iran\"}]</td>\n",
       "      <td>2000-09-08</td>\n",
       "      <td>0</td>\n",
       "      <td>90.0</td>\n",
       "      <td>[{\"iso_639_1\": \"fa\", \"name\": \"\\u0641\\u0627\\u06...</td>\n",
       "      <td>Released</td>\n",
       "      <td>NaN</td>\n",
       "      <td>The Circle</td>\n",
       "      <td>6.6</td>\n",
       "      <td>17</td>\n",
       "    </tr>\n",
       "    <tr>\n",
       "      <th>4792</th>\n",
       "      <td>20000</td>\n",
       "      <td>[{\"id\": 80, \"name\": \"Crime\"}, {\"id\": 27, \"name...</td>\n",
       "      <td>NaN</td>\n",
       "      <td>36095</td>\n",
       "      <td>[{\"id\": 233, \"name\": \"japan\"}, {\"id\": 549, \"na...</td>\n",
       "      <td>ja</td>\n",
       "      <td>キュア</td>\n",
       "      <td>A wave of gruesome murders is sweeping Tokyo. ...</td>\n",
       "      <td>0.212443</td>\n",
       "      <td>[{\"name\": \"Daiei Studios\", \"id\": 881}]</td>\n",
       "      <td>[{\"iso_3166_1\": \"JP\", \"name\": \"Japan\"}]</td>\n",
       "      <td>1997-11-06</td>\n",
       "      <td>99000</td>\n",
       "      <td>111.0</td>\n",
       "      <td>[{\"iso_639_1\": \"ja\", \"name\": \"\\u65e5\\u672c\\u8a...</td>\n",
       "      <td>Released</td>\n",
       "      <td>Madness. Terror. Murder.</td>\n",
       "      <td>Cure</td>\n",
       "      <td>7.4</td>\n",
       "      <td>63</td>\n",
       "    </tr>\n",
       "    <tr>\n",
       "      <th>4798</th>\n",
       "      <td>220000</td>\n",
       "      <td>[{\"id\": 28, \"name\": \"Action\"}, {\"id\": 80, \"nam...</td>\n",
       "      <td>NaN</td>\n",
       "      <td>9367</td>\n",
       "      <td>[{\"id\": 5616, \"name\": \"united states\\u2013mexi...</td>\n",
       "      <td>es</td>\n",
       "      <td>El Mariachi</td>\n",
       "      <td>El Mariachi just wants to play his guitar and ...</td>\n",
       "      <td>14.269792</td>\n",
       "      <td>[{\"name\": \"Columbia Pictures\", \"id\": 5}]</td>\n",
       "      <td>[{\"iso_3166_1\": \"MX\", \"name\": \"Mexico\"}, {\"iso...</td>\n",
       "      <td>1992-09-04</td>\n",
       "      <td>2040920</td>\n",
       "      <td>81.0</td>\n",
       "      <td>[{\"iso_639_1\": \"es\", \"name\": \"Espa\\u00f1ol\"}]</td>\n",
       "      <td>Released</td>\n",
       "      <td>He didn't come looking for trouble, but troubl...</td>\n",
       "      <td>El Mariachi</td>\n",
       "      <td>6.6</td>\n",
       "      <td>238</td>\n",
       "    </tr>\n",
       "  </tbody>\n",
       "</table>\n",
       "<p>298 rows × 20 columns</p>\n",
       "</div>"
      ],
      "text/plain": [
       "        budget                                             genres   \n",
       "97    15000000  [{\"id\": 28, \"name\": \"Action\"}, {\"id\": 12, \"nam...  \\\n",
       "235   97250400  [{\"id\": 14, \"name\": \"Fantasy\"}, {\"id\": 12, \"na...   \n",
       "317   94000000  [{\"id\": 18, \"name\": \"Drama\"}, {\"id\": 36, \"name...   \n",
       "474          0  [{\"id\": 9648, \"name\": \"Mystery\"}, {\"id\": 18, \"...   \n",
       "492    8000000  [{\"id\": 35, \"name\": \"Comedy\"}, {\"id\": 16, \"nam...   \n",
       "...        ...                                                ...   \n",
       "4739         0  [{\"id\": 35, \"name\": \"Comedy\"}, {\"id\": 10749, \"...   \n",
       "4751         0  [{\"id\": 18, \"name\": \"Drama\"}, {\"id\": 10749, \"n...   \n",
       "4790         0  [{\"id\": 18, \"name\": \"Drama\"}, {\"id\": 10769, \"n...   \n",
       "4792     20000  [{\"id\": 80, \"name\": \"Crime\"}, {\"id\": 27, \"name...   \n",
       "4798    220000  [{\"id\": 28, \"name\": \"Action\"}, {\"id\": 80, \"nam...   \n",
       "\n",
       "                                               homepage      id   \n",
       "97                                                  NaN  315011  \\\n",
       "235   http://www.asterixauxjeuxolympiques.com/index.php    2395   \n",
       "317                http://www.theflowersofwarmovie.com/   76758   \n",
       "474                                                 NaN  330770   \n",
       "492                                                 NaN  293644   \n",
       "...                                                 ...     ...   \n",
       "4739                                                NaN   90414   \n",
       "4751                                                NaN   42109   \n",
       "4790                                                NaN   13898   \n",
       "4792                                                NaN   36095   \n",
       "4798                                                NaN    9367   \n",
       "\n",
       "                                               keywords original_language   \n",
       "97    [{\"id\": 1299, \"name\": \"monster\"}, {\"id\": 7671,...                ja  \\\n",
       "235   [{\"id\": 271, \"name\": \"competition\"}, {\"id\": 12...                fr   \n",
       "317   [{\"id\": 173251, \"name\": \"forced prostitution\"}...                zh   \n",
       "474   [{\"id\": 428, \"name\": \"nurse\"}, {\"id\": 658, \"na...                fr   \n",
       "492                      [{\"id\": 209714, \"name\": \"3d\"}]                es   \n",
       "...                                                 ...               ...   \n",
       "4739         [{\"id\": 187056, \"name\": \"woman director\"}]                fr   \n",
       "4751                                                 []                pt   \n",
       "4790                                                 []                fa   \n",
       "4792  [{\"id\": 233, \"name\": \"japan\"}, {\"id\": 549, \"na...                ja   \n",
       "4798  [{\"id\": 5616, \"name\": \"united states\\u2013mexi...                es   \n",
       "\n",
       "                          original_title   \n",
       "97                                シン・ゴジラ  \\\n",
       "235          Astérix aux Jeux Olympiques   \n",
       "317                                金陵十三釵   \n",
       "474                            Évolution   \n",
       "492   Don Gato: El inicio de la pandilla   \n",
       "...                                  ...   \n",
       "4739         I Love You, Don't Touch Me!   \n",
       "4751            Gabriela, Cravo e Canela   \n",
       "4790                               دایره   \n",
       "4792                                 キュア   \n",
       "4798                         El Mariachi   \n",
       "\n",
       "                                               overview  popularity   \n",
       "97    From the mind behind Evangelion comes a hit la...    9.476999  \\\n",
       "235   Astérix and Obélix have to win the Olympic Gam...   20.344364   \n",
       "317   A Westerner finds refuge with a group of women...   12.516546   \n",
       "474   11-year-old Nicolas lives with his mother in a...    3.300061   \n",
       "492   Top Cat has arrived to charm his way into your...    0.719996   \n",
       "...                                                 ...         ...   \n",
       "4739  The story of a 25 year old virgin girl, lookin...    0.020839   \n",
       "4751  In 1925, Gabriela becomes cook, mistress, and ...    0.557602   \n",
       "4790  Various women struggle to function in the oppr...    1.193779   \n",
       "4792  A wave of gruesome murders is sweeping Tokyo. ...    0.212443   \n",
       "4798  El Mariachi just wants to play his guitar and ...   14.269792   \n",
       "\n",
       "                                   production_companies   \n",
       "97    [{\"name\": \"Cine Bazar\", \"id\": 5896}, {\"name\": ...  \\\n",
       "235   [{\"name\": \"Constantin Film\", \"id\": 47}, {\"name...   \n",
       "317   [{\"name\": \"Beijing New Picture Film Co. Ltd.\",...   \n",
       "474   [{\"name\": \"Ex Nihilo\", \"id\": 3307}, {\"name\": \"...   \n",
       "492   [{\"name\": \"Anima Estudios\", \"id\": 9965}, {\"nam...   \n",
       "...                                                 ...   \n",
       "4739                                                 []   \n",
       "4751  [{\"name\": \"United Artists\", \"id\": 60}, {\"name\"...   \n",
       "4790  [{\"name\": \"Jafar Panahi Film Productions\", \"id...   \n",
       "4792             [{\"name\": \"Daiei Studios\", \"id\": 881}]   \n",
       "4798           [{\"name\": \"Columbia Pictures\", \"id\": 5}]   \n",
       "\n",
       "                                   production_countries release_date   \n",
       "97              [{\"iso_3166_1\": \"JP\", \"name\": \"Japan\"}]   2016-07-29  \\\n",
       "235   [{\"iso_3166_1\": \"BE\", \"name\": \"Belgium\"}, {\"is...   2008-01-13   \n",
       "317   [{\"iso_3166_1\": \"CN\", \"name\": \"China\"}, {\"iso_...   2011-12-15   \n",
       "474   [{\"iso_3166_1\": \"BE\", \"name\": \"Belgium\"}, {\"is...   2015-09-14   \n",
       "492   [{\"iso_3166_1\": \"IN\", \"name\": \"India\"}, {\"iso_...   2015-10-30   \n",
       "...                                                 ...          ...   \n",
       "4739  [{\"iso_3166_1\": \"US\", \"name\": \"United States o...   1997-01-21   \n",
       "4751           [{\"iso_3166_1\": \"BR\", \"name\": \"Brazil\"}]   1983-03-24   \n",
       "4790             [{\"iso_3166_1\": \"IR\", \"name\": \"Iran\"}]   2000-09-08   \n",
       "4792            [{\"iso_3166_1\": \"JP\", \"name\": \"Japan\"}]   1997-11-06   \n",
       "4798  [{\"iso_3166_1\": \"MX\", \"name\": \"Mexico\"}, {\"iso...   1992-09-04   \n",
       "\n",
       "        revenue  runtime                                   spoken_languages   \n",
       "97     77000000    120.0  [{\"iso_639_1\": \"it\", \"name\": \"Italiano\"}, {\"is...  \\\n",
       "235   132900000    116.0  [{\"iso_639_1\": \"fr\", \"name\": \"Fran\\u00e7ais\"},...   \n",
       "317    95311434    145.0  [{\"iso_639_1\": \"zh\", \"name\": \"\\u666e\\u901a\\u8b...   \n",
       "474           0     81.0     [{\"iso_639_1\": \"fr\", \"name\": \"Fran\\u00e7ais\"}]   \n",
       "492           0     89.0                                                 []   \n",
       "...         ...      ...                                                ...   \n",
       "4739          0     86.0           [{\"iso_639_1\": \"en\", \"name\": \"English\"}]   \n",
       "4751          0     99.0    [{\"iso_639_1\": \"pt\", \"name\": \"Portugu\\u00eas\"}]   \n",
       "4790          0     90.0  [{\"iso_639_1\": \"fa\", \"name\": \"\\u0641\\u0627\\u06...   \n",
       "4792      99000    111.0  [{\"iso_639_1\": \"ja\", \"name\": \"\\u65e5\\u672c\\u8a...   \n",
       "4798    2040920     81.0      [{\"iso_639_1\": \"es\", \"name\": \"Espa\\u00f1ol\"}]   \n",
       "\n",
       "        status                                            tagline   \n",
       "97    Released                    A god incarnate. A city doomed.  \\\n",
       "235   Released                                                NaN   \n",
       "317   Released                                                NaN   \n",
       "474   Released                                                NaN   \n",
       "492   Released                                                NaN   \n",
       "...        ...                                                ...   \n",
       "4739  Released  Just Your Typical Boy-Loves-Girl Who Doesn't L...   \n",
       "4751  Released                                                NaN   \n",
       "4790  Released                                                NaN   \n",
       "4792  Released                           Madness. Terror. Murder.   \n",
       "4798  Released  He didn't come looking for trouble, but troubl...   \n",
       "\n",
       "                             title  vote_average  vote_count  \n",
       "97                   Shin Godzilla           6.5         143  \n",
       "235   Asterix at the Olympic Games           5.0         471  \n",
       "317             The Flowers of War           7.1         187  \n",
       "474                      Evolution           6.4          47  \n",
       "492                 Top Cat Begins           5.3           9  \n",
       "...                            ...           ...         ...  \n",
       "4739   I Love You, Don't Touch Me!           6.0           1  \n",
       "4751                      Gabriela           6.0           2  \n",
       "4790                    The Circle           6.6          17  \n",
       "4792                          Cure           7.4          63  \n",
       "4798                   El Mariachi           6.6         238  \n",
       "\n",
       "[298 rows x 20 columns]"
      ]
     },
     "execution_count": 59,
     "metadata": {},
     "output_type": "execute_result"
    }
   ],
   "source": [
    "# Obtém todos os filmes cuja língua original NÃO é o inglês\n",
    "tmdb.query(\"original_language != 'en'\")"
   ]
  },
  {
   "cell_type": "code",
   "execution_count": 60,
   "id": "61ad753c-3289-4bd6-a1f4-e0ad7f221415",
   "metadata": {},
   "outputs": [
    {
     "data": {
      "text/plain": [
       "97      ja\n",
       "235     fr\n",
       "317     zh\n",
       "474     fr\n",
       "492     es\n",
       "        ..\n",
       "4739    fr\n",
       "4751    pt\n",
       "4790    fa\n",
       "4792    ja\n",
       "4798    es\n",
       "Name: original_language, Length: 298, dtype: object"
      ]
     },
     "execution_count": 60,
     "metadata": {},
     "output_type": "execute_result"
    }
   ],
   "source": [
    "tmdb.query(\"original_language != 'en'\")['original_language']"
   ]
  },
  {
   "cell_type": "code",
   "execution_count": 61,
   "id": "cbbcbc8d-038d-4a2d-8c89-f23b5a4842e7",
   "metadata": {},
   "outputs": [
    {
     "data": {
      "text/plain": [
       "original_language\n",
       "fr    70\n",
       "es    32\n",
       "zh    27\n",
       "de    27\n",
       "hi    19\n",
       "ja    16\n",
       "it    14\n",
       "cn    12\n",
       "ko    11\n",
       "ru    11\n",
       "pt     9\n",
       "da     7\n",
       "sv     5\n",
       "fa     4\n",
       "nl     4\n",
       "he     3\n",
       "th     3\n",
       "ro     2\n",
       "id     2\n",
       "ar     2\n",
       "cs     2\n",
       "ta     2\n",
       "tr     1\n",
       "nb     1\n",
       "af     1\n",
       "pl     1\n",
       "is     1\n",
       "hu     1\n",
       "vi     1\n",
       "ky     1\n",
       "xx     1\n",
       "te     1\n",
       "no     1\n",
       "sl     1\n",
       "ps     1\n",
       "el     1\n",
       "Name: count, dtype: int64"
      ]
     },
     "execution_count": 61,
     "metadata": {},
     "output_type": "execute_result"
    }
   ],
   "source": [
    "tmdb.query(\"original_language != 'en'\")['original_language'].value_counts()"
   ]
  },
  {
   "cell_type": "code",
   "execution_count": 62,
   "id": "6a1af3e7-78a7-45dd-9366-cfced6e69688",
   "metadata": {},
   "outputs": [],
   "source": [
    "filmes_sem_lingua_original_em_ingles = tmdb.query(\"original_language != 'en'\")"
   ]
  },
  {
   "cell_type": "code",
   "execution_count": 63,
   "id": "3298930f-0b5f-4b70-90ca-3964cd457026",
   "metadata": {},
   "outputs": [
    {
     "data": {
      "text/plain": [
       "<seaborn.axisgrid.FacetGrid at 0x7f5913601610>"
      ]
     },
     "execution_count": 63,
     "metadata": {},
     "output_type": "execute_result"
    },
    {
     "data": {
      "image/png": "[encoded data removed]",
      "text/plain": [
       "<Figure size 500x500 with 1 Axes>"
      ]
     },
     "metadata": {},
     "output_type": "display_data"
    }
   ],
   "source": [
    "sns.catplot(x='original_language', kind='count', data=filmes_sem_lingua_original_em_ingles)"
   ]
  },
  {
   "attachments": {},
   "cell_type": "markdown",
   "id": "12a69e1c-e859-4270-9c9e-4e3cd287b6a9",
   "metadata": {},
   "source": [
    "Com esta visualização, notamos que há mais filmes produzidos em francês do que nas demais línguas. No entanto, os rótulos do eixo horizontal estão sobrepostos e fica díficil identificarmos as diferenças entre as categorias. É, portanto, uma boa ideia ordenarmos as barras deste gráfico em ordem decrescente a fim de que possamos identificar mais facilmente a diferença entre as categorias."
   ]
  },
  {
   "cell_type": "code",
   "execution_count": 64,
   "id": "62833216-8a90-4f9e-b7ab-07692712b6e4",
   "metadata": {},
   "outputs": [
    {
     "data": {
      "text/plain": [
       "original_language\n",
       "fr    70\n",
       "es    32\n",
       "zh    27\n",
       "de    27\n",
       "hi    19\n",
       "ja    16\n",
       "it    14\n",
       "cn    12\n",
       "ko    11\n",
       "ru    11\n",
       "pt     9\n",
       "da     7\n",
       "sv     5\n",
       "fa     4\n",
       "nl     4\n",
       "he     3\n",
       "th     3\n",
       "ro     2\n",
       "id     2\n",
       "ar     2\n",
       "cs     2\n",
       "ta     2\n",
       "tr     1\n",
       "nb     1\n",
       "af     1\n",
       "pl     1\n",
       "is     1\n",
       "hu     1\n",
       "vi     1\n",
       "ky     1\n",
       "xx     1\n",
       "te     1\n",
       "no     1\n",
       "sl     1\n",
       "ps     1\n",
       "el     1\n",
       "Name: count, dtype: int64"
      ]
     },
     "execution_count": 64,
     "metadata": {},
     "output_type": "execute_result"
    }
   ],
   "source": [
    "contagem_outras_linguas = tmdb.query(\"original_language != 'en'\")['original_language'].value_counts()\n",
    "contagem_outras_linguas.columns = ['original_language', 'total']\n",
    "contagem_outras_linguas"
   ]
  },
  {
   "cell_type": "code",
   "execution_count": 65,
   "id": "4ae9e214-10ce-41c3-a184-8b8bc1cc0ad4",
   "metadata": {},
   "outputs": [
    {
     "data": {
      "text/plain": [
       "<seaborn.axisgrid.FacetGrid at 0x7f591332d890>"
      ]
     },
     "execution_count": 65,
     "metadata": {},
     "output_type": "execute_result"
    },
    {
     "data": {
      "image/png": "[encoded data removed]",
      "text/plain": [
       "<Figure size 1000x500 with 1 Axes>"
      ]
     },
     "metadata": {},
     "output_type": "display_data"
    }
   ],
   "source": [
    "# aspect: Define um aspecto para a figura\n",
    "# Não podemos usar o plt.figure(figsize=(14,8))\n",
    "# sns.catplot é um método de alto nível\n",
    "# order: Define uma ordem para ordenar as categorias\n",
    "sns.catplot(x='original_language', kind='count', \n",
    "            data=filmes_sem_lingua_original_em_ingles,\n",
    "            palette='mako',\n",
    "            aspect=2, order=contagem_outras_linguas.index\n",
    "           )"
   ]
  },
  {
   "attachments": {},
   "cell_type": "markdown",
   "id": "41d887fc-4b3d-4a88-a57b-23f8227f5afe",
   "metadata": {},
   "source": [
    "Com esta visualização, podemos notar facilmente que há mais filmes produzidos em francês do que nas demais línguas. Além disso, podemos identificar a diferença entre as quantidades de filmes produzidos em cada língua bem facilmente."
   ]
  },
  {
   "attachments": {},
   "cell_type": "markdown",
   "id": "996d4124-8b4a-406c-9f60-364418ebeae6",
   "metadata": {
    "tags": []
   },
   "source": [
    "## Dados e Estatística"
   ]
  },
  {
   "cell_type": "code",
   "execution_count": 151,
   "id": "cf984bf2-5cf3-457a-85d4-970232655607",
   "metadata": {},
   "outputs": [
    {
     "data": {
      "text/html": [
       "<div>\n",
       "<style scoped>\n",
       "    .dataframe tbody tr th:only-of-type {\n",
       "        vertical-align: middle;\n",
       "    }\n",
       "\n",
       "    .dataframe tbody tr th {\n",
       "        vertical-align: top;\n",
       "    }\n",
       "\n",
       "    .dataframe thead th {\n",
       "        text-align: right;\n",
       "    }\n",
       "</style>\n",
       "<table border=\"1\" class=\"dataframe\">\n",
       "  <thead>\n",
       "    <tr style=\"text-align: right;\">\n",
       "      <th></th>\n",
       "      <th>filmeId</th>\n",
       "      <th>titulo</th>\n",
       "      <th>generos</th>\n",
       "    </tr>\n",
       "  </thead>\n",
       "  <tbody>\n",
       "    <tr>\n",
       "      <th>0</th>\n",
       "      <td>1</td>\n",
       "      <td>Toy Story (1995)</td>\n",
       "      <td>Adventure|Animation|Children|Comedy|Fantasy</td>\n",
       "    </tr>\n",
       "    <tr>\n",
       "      <th>1</th>\n",
       "      <td>2</td>\n",
       "      <td>Jumanji (1995)</td>\n",
       "      <td>Adventure|Children|Fantasy</td>\n",
       "    </tr>\n",
       "    <tr>\n",
       "      <th>2</th>\n",
       "      <td>3</td>\n",
       "      <td>Grumpier Old Men (1995)</td>\n",
       "      <td>Comedy|Romance</td>\n",
       "    </tr>\n",
       "    <tr>\n",
       "      <th>3</th>\n",
       "      <td>4</td>\n",
       "      <td>Waiting to Exhale (1995)</td>\n",
       "      <td>Comedy|Drama|Romance</td>\n",
       "    </tr>\n",
       "    <tr>\n",
       "      <th>4</th>\n",
       "      <td>5</td>\n",
       "      <td>Father of the Bride Part II (1995)</td>\n",
       "      <td>Comedy</td>\n",
       "    </tr>\n",
       "  </tbody>\n",
       "</table>\n",
       "</div>"
      ],
      "text/plain": [
       "   filmeId                              titulo   \n",
       "0        1                    Toy Story (1995)  \\\n",
       "1        2                      Jumanji (1995)   \n",
       "2        3             Grumpier Old Men (1995)   \n",
       "3        4            Waiting to Exhale (1995)   \n",
       "4        5  Father of the Bride Part II (1995)   \n",
       "\n",
       "                                       generos  \n",
       "0  Adventure|Animation|Children|Comedy|Fantasy  \n",
       "1                   Adventure|Children|Fantasy  \n",
       "2                               Comedy|Romance  \n",
       "3                         Comedy|Drama|Romance  \n",
       "4                                       Comedy  "
      ]
     },
     "execution_count": 151,
     "metadata": {},
     "output_type": "execute_result"
    }
   ],
   "source": [
    "filmes.head()"
   ]
  },
  {
   "cell_type": "code",
   "execution_count": 152,
   "id": "7936ae8b-36c6-472e-922a-117b55ee3a21",
   "metadata": {},
   "outputs": [
    {
     "data": {
      "text/html": [
       "<div>\n",
       "<style scoped>\n",
       "    .dataframe tbody tr th:only-of-type {\n",
       "        vertical-align: middle;\n",
       "    }\n",
       "\n",
       "    .dataframe tbody tr th {\n",
       "        vertical-align: top;\n",
       "    }\n",
       "\n",
       "    .dataframe thead th {\n",
       "        text-align: right;\n",
       "    }\n",
       "</style>\n",
       "<table border=\"1\" class=\"dataframe\">\n",
       "  <thead>\n",
       "    <tr style=\"text-align: right;\">\n",
       "      <th></th>\n",
       "      <th>usuarioId</th>\n",
       "      <th>filmeId</th>\n",
       "      <th>nota</th>\n",
       "      <th>momento</th>\n",
       "    </tr>\n",
       "  </thead>\n",
       "  <tbody>\n",
       "    <tr>\n",
       "      <th>0</th>\n",
       "      <td>1</td>\n",
       "      <td>1</td>\n",
       "      <td>4.0</td>\n",
       "      <td>964982703</td>\n",
       "    </tr>\n",
       "    <tr>\n",
       "      <th>1</th>\n",
       "      <td>1</td>\n",
       "      <td>3</td>\n",
       "      <td>4.0</td>\n",
       "      <td>964981247</td>\n",
       "    </tr>\n",
       "    <tr>\n",
       "      <th>2</th>\n",
       "      <td>1</td>\n",
       "      <td>6</td>\n",
       "      <td>4.0</td>\n",
       "      <td>964982224</td>\n",
       "    </tr>\n",
       "    <tr>\n",
       "      <th>3</th>\n",
       "      <td>1</td>\n",
       "      <td>47</td>\n",
       "      <td>5.0</td>\n",
       "      <td>964983815</td>\n",
       "    </tr>\n",
       "    <tr>\n",
       "      <th>4</th>\n",
       "      <td>1</td>\n",
       "      <td>50</td>\n",
       "      <td>5.0</td>\n",
       "      <td>964982931</td>\n",
       "    </tr>\n",
       "  </tbody>\n",
       "</table>\n",
       "</div>"
      ],
      "text/plain": [
       "   usuarioId  filmeId  nota    momento\n",
       "0          1        1   4.0  964982703\n",
       "1          1        3   4.0  964981247\n",
       "2          1        6   4.0  964982224\n",
       "3          1       47   5.0  964983815\n",
       "4          1       50   5.0  964982931"
      ]
     },
     "execution_count": 152,
     "metadata": {},
     "output_type": "execute_result"
    }
   ],
   "source": [
    "notas.head()"
   ]
  },
  {
   "cell_type": "code",
   "execution_count": 153,
   "id": "11865124-9ff9-4cad-a605-0c57ee004764",
   "metadata": {},
   "outputs": [
    {
     "name": "stdout",
     "output_type": "stream",
     "text": [
      "215 110\n"
     ]
    }
   ],
   "source": [
    "notas_do_toy_story = notas.query('filmeId == 1')\n",
    "notas_do_jumanji = notas.query('filmeId == 2')\n",
    "print(len(notas_do_toy_story), len(notas_do_jumanji))"
   ]
  },
  {
   "cell_type": "code",
   "execution_count": 154,
   "id": "a64b48db-5fd5-41fc-8521-805e8f9bfe07",
   "metadata": {},
   "outputs": [
    {
     "name": "stdout",
     "output_type": "stream",
     "text": [
      "Nota média do Toy Story: 3.92\n",
      "Nota média do Jumanji: 3.43\n"
     ]
    }
   ],
   "source": [
    "print('Nota média do Toy Story: %.2f' % notas_do_toy_story['nota'].mean())\n",
    "print('Nota média do Jumanji: %.2f' % notas_do_jumanji['nota'].mean())"
   ]
  },
  {
   "attachments": {},
   "cell_type": "markdown",
   "id": "87eac3a4-3e1d-4988-8829-6e268e990b69",
   "metadata": {},
   "source": [
    "Com a média, não conseguimos saber quantas pessoas amaram e quantas odiaram cada filme, nem se a diferença entre o número das que amaram e das que odiaram é grande ou não."
   ]
  },
  {
   "cell_type": "code",
   "execution_count": 155,
   "id": "1b96396d-6f0e-45c9-b637-dbb0011314d5",
   "metadata": {},
   "outputs": [
    {
     "name": "stdout",
     "output_type": "stream",
     "text": [
      "Mediana das notas do Toy Story: 4.00\n",
      "Mediana das notas do Jumanji: 3.50\n"
     ]
    }
   ],
   "source": [
    "print('Mediana das notas do Toy Story: %.2f' % notas_do_toy_story['nota'].median())\n",
    "print('Mediana das notas do Jumanji: %.2f' % notas_do_jumanji['nota'].median())"
   ]
  },
  {
   "cell_type": "code",
   "execution_count": 156,
   "id": "a3fc4bc2-cfea-40a6-8c5f-2ca8a4253dd7",
   "metadata": {},
   "outputs": [
    {
     "data": {
      "image/png": "[encoded data removed]",
      "text/plain": [
       "<Figure size 640x480 with 1 Axes>"
      ]
     },
     "metadata": {},
     "output_type": "display_data"
    }
   ],
   "source": [
    "plt.boxplot([notas_do_toy_story['nota'], notas_do_jumanji['nota']])\n",
    "plt.show()"
   ]
  },
  {
   "cell_type": "code",
   "execution_count": 64,
   "id": "01100577-677b-4690-8184-cab092b6c53e",
   "metadata": {},
   "outputs": [
    {
     "data": {
      "text/plain": [
       "<Axes: xlabel='filmeId', ylabel='nota'>"
      ]
     },
     "execution_count": 64,
     "metadata": {},
     "output_type": "execute_result"
    },
    {
     "data": {
      "image/png": "[encoded data removed]",
      "text/plain": [
       "<Figure size 640x480 with 1 Axes>"
      ]
     },
     "metadata": {},
     "output_type": "display_data"
    }
   ],
   "source": [
    "sns.boxplot(x='filmeId', y='nota', data=notas.query(\"filmeId in [1, 2, 3, 4, 5]\"))"
   ]
  },
  {
   "cell_type": "code",
   "execution_count": 157,
   "id": "343b87ec-a7d9-4246-b949-fe659854a1c0",
   "metadata": {},
   "outputs": [
    {
     "name": "stdout",
     "output_type": "stream",
     "text": [
      "0.8348591407114047 0.8817134921476455\n"
     ]
    }
   ],
   "source": [
    "# Desvio padrão (medida que calcula o quanto os dados se desviam do padrão, isto é, de uma tendência central)\n",
    "print(notas_do_toy_story['nota'].std(), notas_do_jumanji['nota'].std())"
   ]
  }
 ],
 "metadata": {
  "kernelspec": {
   "display_name": "Python 3 (ipykernel)",
   "language": "python",
   "name": "python3"
  },
  "language_info": {
   "codemirror_mode": {
    "name": "ipython",
    "version": 3
   },
   "file_extension": ".py",
   "mimetype": "text/x-python",
   "name": "python",
   "nbconvert_exporter": "python",
   "pygments_lexer": "ipython3",
   "version": "3.11.3"
  },
  "toc-autonumbering": false,
  "toc-showcode": false,
  "toc-showmarkdowntxt": false,
  "toc-showtags": false
 },
 "nbformat": 4,
 "nbformat_minor": 5
}
